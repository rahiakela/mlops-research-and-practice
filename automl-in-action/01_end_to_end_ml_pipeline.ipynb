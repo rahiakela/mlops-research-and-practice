{
  "cells": [
    {
      "cell_type": "markdown",
      "metadata": {
        "id": "view-in-github",
        "colab_type": "text"
      },
      "source": [
        "<a href=\"https://colab.research.google.com/github/rahiakela/mlops-research-and-practice/blob/main/automl-in-action/01_end_to_end_ml_pipeline.ipynb\" target=\"_parent\"><img src=\"https://colab.research.google.com/assets/colab-badge.svg\" alt=\"Open In Colab\"/></a>"
      ]
    },
    {
      "cell_type": "markdown",
      "metadata": {
        "id": "6VMzz0jX7HO-"
      },
      "source": [
        "## End-to-end ML pipeline\n"
      ]
    },
    {
      "cell_type": "markdown",
      "source": [
        "##Setup"
      ],
      "metadata": {
        "id": "k1LHCkIH7QFS"
      }
    },
    {
      "cell_type": "code",
      "execution_count": 1,
      "metadata": {
        "id": "kyRpcewQ7HO_"
      },
      "outputs": [],
      "source": [
        "from sklearn.datasets import fetch_california_housing\n",
        "from sklearn.model_selection import train_test_split\n",
        "\n",
        "import pandas as pd\n",
        "\n"
      ]
    },
    {
      "cell_type": "markdown",
      "source": [
        "##Assembling the dataset"
      ],
      "metadata": {
        "id": "OeOqxSiN7uJX"
      }
    },
    {
      "cell_type": "code",
      "execution_count": 2,
      "metadata": {
        "id": "R-hX_94o7HPA",
        "colab": {
          "base_uri": "https://localhost:8080/",
          "height": 206
        },
        "outputId": "2c83424c-39e3-4891-f7c3-e04fc080b167"
      },
      "outputs": [
        {
          "output_type": "execute_result",
          "data": {
            "text/plain": [
              "   MedInc  HouseAge  AveRooms  AveBedrms  Population  AveOccup  Latitude  \\\n",
              "0  8.3252      41.0  6.984127   1.023810       322.0  2.555556     37.88   \n",
              "1  8.3014      21.0  6.238137   0.971880      2401.0  2.109842     37.86   \n",
              "2  7.2574      52.0  8.288136   1.073446       496.0  2.802260     37.85   \n",
              "3  5.6431      52.0  5.817352   1.073059       558.0  2.547945     37.85   \n",
              "4  3.8462      52.0  6.281853   1.081081       565.0  2.181467     37.85   \n",
              "\n",
              "   Longitude  \n",
              "0    -122.23  \n",
              "1    -122.22  \n",
              "2    -122.24  \n",
              "3    -122.25  \n",
              "4    -122.25  "
            ],
            "text/html": [
              "\n",
              "  <div id=\"df-d2dc014a-018e-4900-9b5a-46f617bf8b83\">\n",
              "    <div class=\"colab-df-container\">\n",
              "      <div>\n",
              "<style scoped>\n",
              "    .dataframe tbody tr th:only-of-type {\n",
              "        vertical-align: middle;\n",
              "    }\n",
              "\n",
              "    .dataframe tbody tr th {\n",
              "        vertical-align: top;\n",
              "    }\n",
              "\n",
              "    .dataframe thead th {\n",
              "        text-align: right;\n",
              "    }\n",
              "</style>\n",
              "<table border=\"1\" class=\"dataframe\">\n",
              "  <thead>\n",
              "    <tr style=\"text-align: right;\">\n",
              "      <th></th>\n",
              "      <th>MedInc</th>\n",
              "      <th>HouseAge</th>\n",
              "      <th>AveRooms</th>\n",
              "      <th>AveBedrms</th>\n",
              "      <th>Population</th>\n",
              "      <th>AveOccup</th>\n",
              "      <th>Latitude</th>\n",
              "      <th>Longitude</th>\n",
              "    </tr>\n",
              "  </thead>\n",
              "  <tbody>\n",
              "    <tr>\n",
              "      <th>0</th>\n",
              "      <td>8.3252</td>\n",
              "      <td>41.0</td>\n",
              "      <td>6.984127</td>\n",
              "      <td>1.023810</td>\n",
              "      <td>322.0</td>\n",
              "      <td>2.555556</td>\n",
              "      <td>37.88</td>\n",
              "      <td>-122.23</td>\n",
              "    </tr>\n",
              "    <tr>\n",
              "      <th>1</th>\n",
              "      <td>8.3014</td>\n",
              "      <td>21.0</td>\n",
              "      <td>6.238137</td>\n",
              "      <td>0.971880</td>\n",
              "      <td>2401.0</td>\n",
              "      <td>2.109842</td>\n",
              "      <td>37.86</td>\n",
              "      <td>-122.22</td>\n",
              "    </tr>\n",
              "    <tr>\n",
              "      <th>2</th>\n",
              "      <td>7.2574</td>\n",
              "      <td>52.0</td>\n",
              "      <td>8.288136</td>\n",
              "      <td>1.073446</td>\n",
              "      <td>496.0</td>\n",
              "      <td>2.802260</td>\n",
              "      <td>37.85</td>\n",
              "      <td>-122.24</td>\n",
              "    </tr>\n",
              "    <tr>\n",
              "      <th>3</th>\n",
              "      <td>5.6431</td>\n",
              "      <td>52.0</td>\n",
              "      <td>5.817352</td>\n",
              "      <td>1.073059</td>\n",
              "      <td>558.0</td>\n",
              "      <td>2.547945</td>\n",
              "      <td>37.85</td>\n",
              "      <td>-122.25</td>\n",
              "    </tr>\n",
              "    <tr>\n",
              "      <th>4</th>\n",
              "      <td>3.8462</td>\n",
              "      <td>52.0</td>\n",
              "      <td>6.281853</td>\n",
              "      <td>1.081081</td>\n",
              "      <td>565.0</td>\n",
              "      <td>2.181467</td>\n",
              "      <td>37.85</td>\n",
              "      <td>-122.25</td>\n",
              "    </tr>\n",
              "  </tbody>\n",
              "</table>\n",
              "</div>\n",
              "      <button class=\"colab-df-convert\" onclick=\"convertToInteractive('df-d2dc014a-018e-4900-9b5a-46f617bf8b83')\"\n",
              "              title=\"Convert this dataframe to an interactive table.\"\n",
              "              style=\"display:none;\">\n",
              "        \n",
              "  <svg xmlns=\"http://www.w3.org/2000/svg\" height=\"24px\"viewBox=\"0 0 24 24\"\n",
              "       width=\"24px\">\n",
              "    <path d=\"M0 0h24v24H0V0z\" fill=\"none\"/>\n",
              "    <path d=\"M18.56 5.44l.94 2.06.94-2.06 2.06-.94-2.06-.94-.94-2.06-.94 2.06-2.06.94zm-11 1L8.5 8.5l.94-2.06 2.06-.94-2.06-.94L8.5 2.5l-.94 2.06-2.06.94zm10 10l.94 2.06.94-2.06 2.06-.94-2.06-.94-.94-2.06-.94 2.06-2.06.94z\"/><path d=\"M17.41 7.96l-1.37-1.37c-.4-.4-.92-.59-1.43-.59-.52 0-1.04.2-1.43.59L10.3 9.45l-7.72 7.72c-.78.78-.78 2.05 0 2.83L4 21.41c.39.39.9.59 1.41.59.51 0 1.02-.2 1.41-.59l7.78-7.78 2.81-2.81c.8-.78.8-2.07 0-2.86zM5.41 20L4 18.59l7.72-7.72 1.47 1.35L5.41 20z\"/>\n",
              "  </svg>\n",
              "      </button>\n",
              "      \n",
              "  <style>\n",
              "    .colab-df-container {\n",
              "      display:flex;\n",
              "      flex-wrap:wrap;\n",
              "      gap: 12px;\n",
              "    }\n",
              "\n",
              "    .colab-df-convert {\n",
              "      background-color: #E8F0FE;\n",
              "      border: none;\n",
              "      border-radius: 50%;\n",
              "      cursor: pointer;\n",
              "      display: none;\n",
              "      fill: #1967D2;\n",
              "      height: 32px;\n",
              "      padding: 0 0 0 0;\n",
              "      width: 32px;\n",
              "    }\n",
              "\n",
              "    .colab-df-convert:hover {\n",
              "      background-color: #E2EBFA;\n",
              "      box-shadow: 0px 1px 2px rgba(60, 64, 67, 0.3), 0px 1px 3px 1px rgba(60, 64, 67, 0.15);\n",
              "      fill: #174EA6;\n",
              "    }\n",
              "\n",
              "    [theme=dark] .colab-df-convert {\n",
              "      background-color: #3B4455;\n",
              "      fill: #D2E3FC;\n",
              "    }\n",
              "\n",
              "    [theme=dark] .colab-df-convert:hover {\n",
              "      background-color: #434B5C;\n",
              "      box-shadow: 0px 1px 3px 1px rgba(0, 0, 0, 0.15);\n",
              "      filter: drop-shadow(0px 1px 2px rgba(0, 0, 0, 0.3));\n",
              "      fill: #FFFFFF;\n",
              "    }\n",
              "  </style>\n",
              "\n",
              "      <script>\n",
              "        const buttonEl =\n",
              "          document.querySelector('#df-d2dc014a-018e-4900-9b5a-46f617bf8b83 button.colab-df-convert');\n",
              "        buttonEl.style.display =\n",
              "          google.colab.kernel.accessAllowed ? 'block' : 'none';\n",
              "\n",
              "        async function convertToInteractive(key) {\n",
              "          const element = document.querySelector('#df-d2dc014a-018e-4900-9b5a-46f617bf8b83');\n",
              "          const dataTable =\n",
              "            await google.colab.kernel.invokeFunction('convertToInteractive',\n",
              "                                                     [key], {});\n",
              "          if (!dataTable) return;\n",
              "\n",
              "          const docLinkHtml = 'Like what you see? Visit the ' +\n",
              "            '<a target=\"_blank\" href=https://colab.research.google.com/notebooks/data_table.ipynb>data table notebook</a>'\n",
              "            + ' to learn more about interactive tables.';\n",
              "          element.innerHTML = '';\n",
              "          dataTable['output_type'] = 'display_data';\n",
              "          await google.colab.output.renderOutput(dataTable, element);\n",
              "          const docLink = document.createElement('div');\n",
              "          docLink.innerHTML = docLinkHtml;\n",
              "          element.appendChild(docLink);\n",
              "        }\n",
              "      </script>\n",
              "    </div>\n",
              "  </div>\n",
              "  "
            ]
          },
          "metadata": {},
          "execution_count": 2
        }
      ],
      "source": [
        "# Load the California housing dataset\n",
        "house_dataset = fetch_california_housing()\n",
        "\n",
        "# Display the oringal data\n",
        "house_dataset.keys()\n",
        "\n",
        "# Extract features with their names into the a dataframe format\n",
        "data = pd.DataFrame(house_dataset.data, columns=house_dataset.feature_names)\n",
        "\n",
        "# Extract target with their names into a pd.Series object with name MedPrice\n",
        "target = pd.Series(house_dataset.target, name=\"MedPrice\")\n",
        "\n",
        "# Visualize the first 5 samples of the data\n",
        "data.head(5)"
      ]
    },
    {
      "cell_type": "markdown",
      "metadata": {
        "id": "Ree8cXRZ7HPB"
      },
      "source": [
        "### Split the dataset into training and test set\n"
      ]
    },
    {
      "cell_type": "code",
      "execution_count": 3,
      "metadata": {
        "id": "Z3fqrHDN7HPB",
        "colab": {
          "base_uri": "https://localhost:8080/"
        },
        "outputId": "ad962092-27e3-40fe-d26a-8216bd81121b"
      },
      "outputs": [
        {
          "output_type": "stream",
          "name": "stdout",
          "text": [
            "--Shape of the whole data--\n",
            " (20640, 8)\n",
            "\n",
            "--Shape of the target vector--\n",
            " (20640,)\n",
            "\n",
            "--Shape of the training data--\n",
            " (16512, 8)\n",
            "\n",
            "--Shape of the testing data--\n",
            " (4128, 8)\n"
          ]
        }
      ],
      "source": [
        "# Split data into training and test dataset\n",
        "X_train, X_test, y_train, y_test = train_test_split(data, target, test_size=0.2, random_state=42)\n",
        "\n",
        "# Check the shape of whole dataset and the splited training and test set\n",
        "print(\"--Shape of the whole data--\\n {}\".format(data.shape))\n",
        "print(\"\\n--Shape of the target vector--\\n {}\".format(target.shape))\n",
        "print(\"\\n--Shape of the training data--\\n {}\".format(X_train.shape))\n",
        "print(\"\\n--Shape of the testing data--\\n {}\".format(X_test.shape))"
      ]
    },
    {
      "cell_type": "code",
      "execution_count": 4,
      "metadata": {
        "id": "nYYsiR_57HPC",
        "colab": {
          "base_uri": "https://localhost:8080/"
        },
        "outputId": "92f9fbaf-5491-4d01-c559-542d949ec377"
      },
      "outputs": [
        {
          "output_type": "execute_result",
          "data": {
            "text/plain": [
              "(((20640, 8), (20640,)), ((16512, 8), (16512,)), ((4128, 8), (4128,)))"
            ]
          },
          "metadata": {},
          "execution_count": 4
        }
      ],
      "source": [
        "(data.shape, target.shape), (X_train.shape, y_train.shape), (X_test.shape, y_test.shape)"
      ]
    },
    {
      "cell_type": "markdown",
      "metadata": {
        "id": "Em9ePNPs7HPE"
      },
      "source": [
        "## Data preprocessing\n"
      ]
    },
    {
      "cell_type": "markdown",
      "metadata": {
        "id": "u2pvKXl_7HPF"
      },
      "source": [
        "### Q1: What are the data type of the values in each feature?\n"
      ]
    },
    {
      "cell_type": "code",
      "execution_count": null,
      "metadata": {
        "id": "_It5cX907HPF"
      },
      "outputs": [],
      "source": [
        "data.dtypes\n"
      ]
    },
    {
      "cell_type": "code",
      "execution_count": null,
      "metadata": {
        "id": "TOYM5X8e7HPG"
      },
      "outputs": [],
      "source": [
        "# Check for feature value type\n",
        "print(\"-- Feature type --\\n{}\".format(data.dtypes))\n",
        "print(\"\\n-- Target type --\\n{}\".format(target.dtypes))\n"
      ]
    },
    {
      "cell_type": "markdown",
      "metadata": {
        "id": "xbs4Fx3L7HPG"
      },
      "source": [
        "### Q2: How many distinct values each feature has in the dataset?\n"
      ]
    },
    {
      "cell_type": "code",
      "execution_count": null,
      "metadata": {
        "id": "8hCG75Yx7HPH"
      },
      "outputs": [],
      "source": [
        "# Check for unique feature values\n",
        "print(\"\\n-- # of unique feature values --\\n{}\".format(data.nunique()))\n"
      ]
    },
    {
      "cell_type": "markdown",
      "metadata": {
        "id": "UdZWvQrN7HPH"
      },
      "source": [
        "### Q3: What are the scale and basic statistics of each feature?\n"
      ]
    },
    {
      "cell_type": "code",
      "execution_count": null,
      "metadata": {
        "id": "B1ibIZL17HPI"
      },
      "outputs": [],
      "source": [
        "# Viewing the data statistics\n",
        "pd.options.display.float_format = \"{:,.2f}\".format\n",
        "data.describe()\n"
      ]
    },
    {
      "cell_type": "markdown",
      "metadata": {
        "id": "wt46CPFP7HPI"
      },
      "source": [
        "### Q4: Are there missing values contained in the data?\n"
      ]
    },
    {
      "cell_type": "code",
      "execution_count": null,
      "metadata": {
        "id": "i5EPrXjo7HPI"
      },
      "outputs": [],
      "source": [
        "# Copy data to avoid inplace\n",
        "train_data = X_train.copy()\n",
        "\n",
        "# Add a column \"MedPrice\" for the target house price\n",
        "train_data[\"MedPrice\"] = y_train\n",
        "\n",
        "# Check if there're missing values\n",
        "print(\n",
        "    \"\\n-- check missing values in training data --\\n{}\".format(\n",
        "        train_data.isnull().any()\n",
        "    )\n",
        ")\n",
        "print(\"\\n-- check missing values in test data --\\n{}\".format(X_test.isnull().any()))\n"
      ]
    },
    {
      "cell_type": "markdown",
      "metadata": {
        "id": "al8Q8OV47HPJ"
      },
      "source": [
        "##   Feature engineering: feature selection\n"
      ]
    },
    {
      "cell_type": "code",
      "execution_count": null,
      "metadata": {
        "id": "dIjSSzpE7HPJ"
      },
      "outputs": [],
      "source": [
        "# Can we gain some insights by visualizing the distribution of them or correlationship between them?\n",
        "# Import libraries for plotting\n",
        "import matplotlib.pyplot as plt\n",
        "import seaborn as sns\n",
        "\n",
        "\n",
        "# Pretty display for notebooks (only in a Jupyter notebook)\n"
      ]
    },
    {
      "cell_type": "code",
      "execution_count": null,
      "metadata": {
        "id": "GsvxUWat7HPJ"
      },
      "outputs": [],
      "source": [
        "%matplotlib inline\n"
      ]
    },
    {
      "cell_type": "code",
      "execution_count": null,
      "metadata": {
        "id": "brXEGrQn7HPK"
      },
      "outputs": [],
      "source": [
        "\n",
        "# Plot the correlation across all the features and the target\n",
        "plt.figure(figsize=(30, 10))\n",
        "\n",
        "correlation_matrix = train_data.corr().round(2)\n",
        "sns.heatmap(\n",
        "    data=correlation_matrix, square=True, annot=True, cmap=\"Blues\"\n",
        ")  # fmt='.1f', annot_kws={'size':15},\n"
      ]
    },
    {
      "cell_type": "code",
      "execution_count": null,
      "metadata": {
        "id": "wuomGter7HPK"
      },
      "outputs": [],
      "source": [
        "# Select high correlation features & display the pairplot\n",
        "\n",
        "selected_feature_set = [\"MedInc\", \"AveRooms\"]  # 'PTRATIO', , 'Latitude', 'HouseAge'\n",
        "sub_train_data = train_data[selected_feature_set + [\"MedPrice\"]]\n",
        "\n",
        "# Extract the new training features\n",
        "X_train = sub_train_data.drop([\"MedPrice\"], axis=1)\n",
        "\n",
        "# Select same feature sets for test data\n",
        "X_test = X_test[selected_feature_set]\n",
        "\n",
        "\n",
        "sns.pairplot(sub_train_data, height=3.5, plot_kws={\"alpha\": 0.4})\n",
        "plt.tight_layout()\n",
        "\n"
      ]
    },
    {
      "cell_type": "markdown",
      "metadata": {
        "id": "ZImpKxHH7HPK"
      },
      "source": [
        "## Build up a linear regressor & a decision tree regressor\n"
      ]
    },
    {
      "cell_type": "markdown",
      "metadata": {
        "id": "bQ6VX5TB7HPL"
      },
      "source": [
        "### Linear regression\n"
      ]
    },
    {
      "cell_type": "code",
      "execution_count": null,
      "metadata": {
        "id": "7HxjsLhg7HPL"
      },
      "outputs": [],
      "source": [
        "# Import library for linear regression\n",
        "from sklearn.linear_model import LinearRegression\n",
        "\n",
        "# Training\n",
        "# Create a Linear regressor\n",
        "linear_regressor = LinearRegression()\n",
        "\n",
        "# Train the model using the training sets\n",
        "linear_regressor.fit(X_train, y_train)\n",
        "\n",
        "# Display the learned parameters\n",
        "# Convert the coefficient values to a dataframe\n",
        "coeffcients = pd.DataFrame(\n",
        "    linear_regressor.coef_, X_train.columns, columns=[\"Coefficient\"]\n",
        ")\n",
        "\n",
        "# Display the intercept value\n",
        "print(\"Learned intercept: {:.2f}\".format(linear_regressor.intercept_))\n",
        "\n",
        "print(\"\\n--The learned coefficient value learned by the linear regression model--\")\n",
        "print(coeffcients)\n"
      ]
    },
    {
      "cell_type": "code",
      "execution_count": null,
      "metadata": {
        "id": "_CzvmSFs7HPL"
      },
      "outputs": [],
      "source": [
        "\n",
        "# Import the built-in MSE metric\n",
        "from sklearn.metrics import mean_squared_error\n",
        "\n",
        "# Model prediction on training data\n",
        "y_pred_train = linear_regressor.predict(X_train)\n",
        "print(\"\\n--Train MSE--\\n{}\".format(mean_squared_error(y_train, y_pred_train)))\n",
        "\n",
        "\n",
        "# Testing\n",
        "y_pred_test = linear_regressor.predict(X_test)\n",
        "\n",
        "print(\"Test MSE: {:.2f}\".format(mean_squared_error(y_test, y_pred_test)))\n"
      ]
    },
    {
      "cell_type": "code",
      "execution_count": null,
      "metadata": {
        "id": "zLTNyElt7HPL"
      },
      "outputs": [],
      "source": [
        "# Visualizing the differences between actual prices and predicted values\n",
        "plt.scatter(y_test, y_pred_test)\n",
        "plt.xlabel(\"MedPrice\")\n",
        "plt.ylabel(\"Predicted MedPrice\")\n",
        "plt.title(\"MedPrice vs Predicted MedPrice\")\n",
        "plt.show()\n"
      ]
    },
    {
      "cell_type": "code",
      "execution_count": null,
      "metadata": {
        "id": "W-fXqW-N7HPL"
      },
      "outputs": [],
      "source": [
        "# Checking Normality of errors\n",
        "sns.distplot(y_test - y_pred_test)\n",
        "plt.title(\"Histogram of Residuals\")\n",
        "plt.xlabel(\"Residuals\")\n",
        "plt.ylabel(\"Frequency\")\n",
        "plt.show()\n"
      ]
    },
    {
      "cell_type": "markdown",
      "metadata": {
        "id": "wSbggBT-7HPM"
      },
      "source": [
        "### Decision tree\n"
      ]
    },
    {
      "cell_type": "code",
      "execution_count": null,
      "metadata": {
        "id": "M8vxS5Tk7HPM"
      },
      "outputs": [],
      "source": [
        "# Import library for decision tree\n",
        "from sklearn.tree import DecisionTreeRegressor\n",
        "\n",
        "tree_regressor = DecisionTreeRegressor(max_depth=3, random_state=42)\n",
        "tree_regressor.fit(X_train, y_train)\n"
      ]
    },
    {
      "cell_type": "code",
      "execution_count": null,
      "metadata": {
        "id": "eREk53R77HPM"
      },
      "outputs": [],
      "source": [
        "# Model prediction on training & test data\n",
        "y_pred_train = tree_regressor.predict(X_train)\n",
        "y_pred_test = tree_regressor.predict(X_test)\n",
        "\n",
        "print(\"Train MSE: {:.2f}\".format(mean_squared_error(y_train, y_pred_train)))\n",
        "\n",
        "print(\"Test MSE: {:.2f}\".format(mean_squared_error(y_test, y_pred_test)))\n"
      ]
    },
    {
      "cell_type": "code",
      "execution_count": null,
      "metadata": {
        "id": "E88MDAFV7HPM"
      },
      "outputs": [],
      "source": [
        "# Plot outputs\n",
        "# Visualizing the differences between actual prices and predicted values\n",
        "plt.scatter(y_test, y_pred_test)\n",
        "plt.xlabel(\"MedPrice\")\n",
        "plt.ylabel(\"Predicted MedPrice\")\n",
        "plt.title(\"MedPrice vs Predicted MedPrice\")\n",
        "plt.show()\n"
      ]
    },
    {
      "cell_type": "code",
      "execution_count": null,
      "metadata": {
        "id": "Vned-sn_7HPM"
      },
      "outputs": [],
      "source": [
        "# Visualizing the decision tree\n",
        "from six import StringIO\n",
        "import sklearn.tree as tree\n",
        "import pydotplus\n",
        "\n",
        "from IPython.display import Image\n",
        "\n",
        "dot_data = StringIO()\n",
        "tree.export_graphviz(\n",
        "    tree_regressor,\n",
        "    out_file=dot_data,\n",
        "    class_names=[\"MedPrice\"],  # the target names.\n",
        "    feature_names=selected_feature_set,  # the feature names.\n",
        "    filled=True,  # Whether to fill in the boxes with colours.\n",
        "    rounded=True,  # Whether to round the corners of the boxes.\n",
        "    special_characters=True,\n",
        ")\n",
        "graph = pydotplus.graph_from_dot_data(dot_data.getvalue())\n",
        "Image(graph.create_png())\n"
      ]
    },
    {
      "cell_type": "markdown",
      "metadata": {
        "id": "ShgyfV_d7HPN"
      },
      "source": [
        "## Fine-Tuning: tune the tree depth hyperparameter in the tree regressor\n"
      ]
    },
    {
      "cell_type": "code",
      "execution_count": null,
      "metadata": {
        "id": "m62CKccW7HPN"
      },
      "outputs": [],
      "source": [
        "import numpy as np\n",
        "from sklearn.model_selection import KFold\n",
        "\n",
        "kf = KFold(n_splits=5)  # sample indices of datasets for 5-fold cv\n",
        "\n",
        "cv_sets = []\n",
        "for train_index, test_index in kf.split(X_train):\n",
        "    cv_sets.append(\n",
        "        (\n",
        "            X_train.iloc[train_index],\n",
        "            y_train.iloc[train_index],\n",
        "            X_train.iloc[test_index],\n",
        "            y_train.iloc[test_index],\n",
        "        )\n",
        "    )  # construct 5-fold cv datasets\n"
      ]
    },
    {
      "cell_type": "code",
      "execution_count": null,
      "metadata": {
        "id": "dM_CH5mB7HPN"
      },
      "outputs": [],
      "source": [
        "max_depths = list(range(1, 11))  # candidate max_depth hyperparamters\n",
        "\n",
        "for max_depth in max_depths:\n",
        "    cv_results = []\n",
        "    regressor = DecisionTreeRegressor(max_depth=max_depth, random_state=42)\n",
        "for (\n",
        "    x_tr,\n",
        "    y_tr,\n",
        "    x_te,\n",
        "    y_te,\n",
        ") in cv_sets:  # loop through all the cv sets and average the validation results\n",
        "    regressor.fit(x_tr, y_tr)\n",
        "    cv_results.append(mean_squared_error(regressor.predict(x_te), y_te))\n",
        "print(\"Tree depth: {}, Avg. MSE: {}\".format(max_depth, np.mean(cv_results)))\n"
      ]
    },
    {
      "cell_type": "code",
      "execution_count": null,
      "metadata": {
        "id": "cXI9Nop97HPN"
      },
      "outputs": [],
      "source": [
        "# Hp tuning with Sklearn\n",
        "\n",
        "from sklearn.model_selection import GridSearchCV\n",
        "from sklearn.metrics import make_scorer\n",
        "\n",
        "# Build up the decision tree regressor\n",
        "regressor = DecisionTreeRegressor(random_state=42)\n",
        "\n",
        "# Create a dictionary for the hyperparameter 'max_depth' with a range from 1 to 10\n",
        "hps = {\"max_depth\": list(range(1, 11))}\n",
        "\n",
        "# Transform 'performance_metric' into a scoring function using 'make_scorer'.\n",
        "# The default scorer function is the greater the better, here MSE is the lower the better,\n",
        "# so we set ``greater_is_better'' to be False.\n",
        "scoring_fnc = make_scorer(mean_squared_error, greater_is_better=False)\n",
        "\n",
        "# Create the grid search cv object (5-fold cross-validation)\n",
        "grid_search = GridSearchCV(\n",
        "    estimator=regressor, param_grid=hps, scoring=scoring_fnc, cv=5\n",
        ")\n",
        "\n",
        "# Fit the grid search object to the training data to search the optimal model\n",
        "grid_search = grid_search.fit(X_train, y_train)\n",
        "\n"
      ]
    },
    {
      "cell_type": "code",
      "execution_count": null,
      "metadata": {
        "id": "HmcS8gXS7HPO"
      },
      "outputs": [],
      "source": [
        "cvres = grid_search.cv_results_\n",
        "for mean_score, params in zip(cvres[\"mean_test_score\"], cvres[\"params\"]):\n",
        "    print(-mean_score, params)\n",
        "\n",
        "plt.plot(hps[\"max_depth\"], -cvres[\"mean_test_score\"])\n",
        "plt.title(\"5-fold CV MSE change with tree max depth\")\n",
        "plt.xlabel(\"max_depth\")\n",
        "plt.ylabel(\"MSE\")\n",
        "plt.show()\n"
      ]
    },
    {
      "cell_type": "markdown",
      "metadata": {
        "id": "LLEaJydU7HPO"
      },
      "source": [
        "## Retrive the best model\n"
      ]
    },
    {
      "cell_type": "code",
      "execution_count": null,
      "metadata": {
        "id": "0HCKo4Rn7HPO"
      },
      "outputs": [],
      "source": [
        "grid_search.best_params_\n",
        "best_tree_regressor = grid_search.best_estimator_\n",
        "\n",
        "# Produce the value for 'max_depth'\n",
        "print(\"Best hyperparameter is {}.\".format(grid_search.best_params_))\n",
        "\n",
        "# Model prediction on training & test data\n",
        "y_pred_train = best_tree_regressor.predict(X_train)\n",
        "y_pred_test = best_tree_regressor.predict(X_test)\n",
        "\n",
        "print(\"\\n--Train MSE--\\n{}\".format(mean_squared_error(y_train, y_pred_train)))\n",
        "\n",
        "print(\"\\n--Test MSE--\\n{}\\n\".format(mean_squared_error(y_test, y_pred_test)))\n"
      ]
    },
    {
      "cell_type": "markdown",
      "metadata": {
        "id": "COn9kZMh7HPP"
      },
      "source": [
        "## Real test curve V.S. cross-validation curve\n"
      ]
    },
    {
      "cell_type": "code",
      "execution_count": null,
      "metadata": {
        "id": "Lz35PGvT7HPP"
      },
      "outputs": [],
      "source": [
        "test_results = []\n",
        "for max_depth in hps[\"max_depth\"]:\n",
        "    tmp_results = []\n",
        "    regressor = DecisionTreeRegressor(max_depth=max_depth, random_state=42)\n",
        "    regressor.fit(X_train, y_train)\n",
        "    test_results.append(mean_squared_error(regressor.predict(X_test), y_test))\n",
        "    print(\"Tree depth: {}, Test MSE: {}\".format(max_depth, test_results[-1]))\n",
        "\n",
        "plt.plot(hps[\"max_depth\"], -cvres[\"mean_test_score\"])\n",
        "plt.plot(hps[\"max_depth\"], test_results)\n",
        "plt.title(\"Comparison of the changing curve of the CV results and real test results\")\n",
        "plt.legend([\"CV\", \"Test\"])\n",
        "plt.xlabel(\"max_depth\")\n",
        "plt.ylabel(\"MSE\")\n",
        "plt.show()\n"
      ]
    }
  ],
  "metadata": {
    "colab": {
      "collapsed_sections": [],
      "name": "01-end-to-end-ml-pipeline",
      "provenance": [],
      "toc_visible": true,
      "include_colab_link": true
    },
    "kernelspec": {
      "display_name": "Python 3",
      "language": "python",
      "name": "python3"
    },
    "language_info": {
      "codemirror_mode": {
        "name": "ipython",
        "version": 3
      },
      "file_extension": ".py",
      "mimetype": "text/x-python",
      "name": "python",
      "nbconvert_exporter": "python",
      "pygments_lexer": "ipython3",
      "version": "3.7.0"
    }
  },
  "nbformat": 4,
  "nbformat_minor": 0
}