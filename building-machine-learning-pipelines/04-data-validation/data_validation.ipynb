{
  "nbformat": 4,
  "nbformat_minor": 0,
  "metadata": {
    "colab": {
      "name": "data-validation.ipynb",
      "provenance": [],
      "toc_visible": true,
      "authorship_tag": "ABX9TyOcxJZ4KDDR24+FlQ6nc7E+",
      "include_colab_link": true
    },
    "kernelspec": {
      "name": "python3",
      "display_name": "Python 3"
    },
    "language_info": {
      "name": "python"
    }
  },
  "cells": [
    {
      "cell_type": "markdown",
      "metadata": {
        "id": "view-in-github",
        "colab_type": "text"
      },
      "source": [
        "<a href=\"https://colab.research.google.com/github/rahiakela/mlops-research-and-practice/blob/main/building-machine-learning-pipelines/04-data-validation/data_validation.ipynb\" target=\"_parent\"><img src=\"https://colab.research.google.com/assets/colab-badge.svg\" alt=\"Open In Colab\"/></a>"
      ]
    },
    {
      "cell_type": "markdown",
      "source": [
        "##Data Validation"
      ],
      "metadata": {
        "id": "5uAuV3g4xDji"
      }
    },
    {
      "cell_type": "markdown",
      "source": [
        "In colloquial\n",
        "terms, you might have heard the phrase: “garbage in, garbage out”—meaning that\n",
        "our models won’t perform if the underlying data isn’t curated and validated. This is\n",
        "the exact purpose of our first workflow step in our machine learning pipeline: data\n",
        "validation.\n",
        "\n",
        "<img src='images/1.png?raw=1' width='800'/>\n",
        "\n",
        "In this notebook, we first motivate the idea of data validation, and then we introduce\n",
        "you to a Python package from the TensorFlow Extended ecosystem called Tensor‐\n",
        "Flow Data Validation (TFDV).\n",
        "\n",
        "The TensorFlow ecosystem offers a tool that can assist you in data validation, TFDV.\n",
        "\n",
        "TFDV accepts two input formats to start the data validation: TensorFlow’s TFRecord\n",
        "and CSV files."
      ],
      "metadata": {
        "id": "_bIQ1YR1xEVg"
      }
    },
    {
      "cell_type": "markdown",
      "source": [
        "##Setup"
      ],
      "metadata": {
        "id": "ODY2ItShxvDw"
      }
    },
    {
      "cell_type": "code",
      "source": [
        "!pip install tensorflow-data-validation"
      ],
      "metadata": {
        "id": "Jv34qlnXxwI1"
      },
      "execution_count": null,
      "outputs": []
    },
    {
      "cell_type": "code",
      "source": [
        "%%shell\n",
        "\n",
        "wget -q http://bit.ly/building-ml-pipelines-dataset\n",
        "\n",
        "mv building-ml-pipelines-dataset consumer_complaints_with_narrative.csv"
      ],
      "metadata": {
        "id": "KvNrYgejx04V"
      },
      "execution_count": null,
      "outputs": []
    },
    {
      "cell_type": "code",
      "source": [
        "import tensorflow_data_validation as tfdv\n",
        "import pandas as pd\n",
        "import numpy as np"
      ],
      "metadata": {
        "id": "5UtN-TCS0pzz"
      },
      "execution_count": 5,
      "outputs": []
    },
    {
      "cell_type": "code",
      "source": [
        "temp_df = pd.read_csv(\"consumer_complaints_with_narrative.csv\")\n",
        "temp_df.head()"
      ],
      "metadata": {
        "colab": {
          "base_uri": "https://localhost:8080/",
          "height": 582
        },
        "id": "STlBqNtg0xP4",
        "outputId": "27e8d4fa-8e82-4da5-e895-f484786e7e1b"
      },
      "execution_count": 6,
      "outputs": [
        {
          "output_type": "execute_result",
          "data": {
            "text/html": [
              "\n",
              "  <div id=\"df-f8800632-1df5-4fa5-b8e6-82d74f4b98c5\">\n",
              "    <div class=\"colab-df-container\">\n",
              "      <div>\n",
              "<style scoped>\n",
              "    .dataframe tbody tr th:only-of-type {\n",
              "        vertical-align: middle;\n",
              "    }\n",
              "\n",
              "    .dataframe tbody tr th {\n",
              "        vertical-align: top;\n",
              "    }\n",
              "\n",
              "    .dataframe thead th {\n",
              "        text-align: right;\n",
              "    }\n",
              "</style>\n",
              "<table border=\"1\" class=\"dataframe\">\n",
              "  <thead>\n",
              "    <tr style=\"text-align: right;\">\n",
              "      <th></th>\n",
              "      <th>product</th>\n",
              "      <th>sub_product</th>\n",
              "      <th>issue</th>\n",
              "      <th>sub_issue</th>\n",
              "      <th>consumer_complaint_narrative</th>\n",
              "      <th>company</th>\n",
              "      <th>state</th>\n",
              "      <th>zip_code</th>\n",
              "      <th>company_response</th>\n",
              "      <th>timely_response</th>\n",
              "      <th>consumer_disputed</th>\n",
              "    </tr>\n",
              "  </thead>\n",
              "  <tbody>\n",
              "    <tr>\n",
              "      <th>0</th>\n",
              "      <td>Debt collection</td>\n",
              "      <td>I do not know</td>\n",
              "      <td>Disclosure verification of debt</td>\n",
              "      <td>Right to dispute notice not received</td>\n",
              "      <td>I was denied employment because of a judgment ...</td>\n",
              "      <td>Encore Capital Group</td>\n",
              "      <td>NY</td>\n",
              "      <td>113XX</td>\n",
              "      <td>Closed with explanation</td>\n",
              "      <td>Yes</td>\n",
              "      <td>0</td>\n",
              "    </tr>\n",
              "    <tr>\n",
              "      <th>1</th>\n",
              "      <td>Credit reporting</td>\n",
              "      <td>NaN</td>\n",
              "      <td>Improper use of my credit report</td>\n",
              "      <td>Report improperly shared by CRC</td>\n",
              "      <td>I have a credit card through XXXX XXXX and XXX...</td>\n",
              "      <td>Experian</td>\n",
              "      <td>IL</td>\n",
              "      <td>606XX</td>\n",
              "      <td>Closed with non-monetary relief</td>\n",
              "      <td>Yes</td>\n",
              "      <td>0</td>\n",
              "    </tr>\n",
              "    <tr>\n",
              "      <th>2</th>\n",
              "      <td>Debt collection</td>\n",
              "      <td>I do not know</td>\n",
              "      <td>Cont'd attempts collect debt not owed</td>\n",
              "      <td>Debt is not mine</td>\n",
              "      <td>Almost daily phone calls from Stellar Recovery...</td>\n",
              "      <td>Stellar Recovery Inc.</td>\n",
              "      <td>MI</td>\n",
              "      <td>480XX</td>\n",
              "      <td>Closed with explanation</td>\n",
              "      <td>Yes</td>\n",
              "      <td>1</td>\n",
              "    </tr>\n",
              "    <tr>\n",
              "      <th>3</th>\n",
              "      <td>Mortgage</td>\n",
              "      <td>Conventional fixed mortgage</td>\n",
              "      <td>Loan servicing, payments, escrow account</td>\n",
              "      <td>NaN</td>\n",
              "      <td>I submitted my monthly mortgage payment to Pri...</td>\n",
              "      <td>Primary Residential Mortgage</td>\n",
              "      <td>CT</td>\n",
              "      <td>066XX</td>\n",
              "      <td>Closed with monetary relief</td>\n",
              "      <td>Yes</td>\n",
              "      <td>0</td>\n",
              "    </tr>\n",
              "    <tr>\n",
              "      <th>4</th>\n",
              "      <td>Student loan</td>\n",
              "      <td>Non-federal student loan</td>\n",
              "      <td>Dealing with my lender or servicer</td>\n",
              "      <td>Received bad information about my loan</td>\n",
              "      <td>I contacted America Education Services in XX/X...</td>\n",
              "      <td>AES/PHEAA</td>\n",
              "      <td>FL</td>\n",
              "      <td>321XX</td>\n",
              "      <td>Closed with explanation</td>\n",
              "      <td>Yes</td>\n",
              "      <td>1</td>\n",
              "    </tr>\n",
              "  </tbody>\n",
              "</table>\n",
              "</div>\n",
              "      <button class=\"colab-df-convert\" onclick=\"convertToInteractive('df-f8800632-1df5-4fa5-b8e6-82d74f4b98c5')\"\n",
              "              title=\"Convert this dataframe to an interactive table.\"\n",
              "              style=\"display:none;\">\n",
              "        \n",
              "  <svg xmlns=\"http://www.w3.org/2000/svg\" height=\"24px\"viewBox=\"0 0 24 24\"\n",
              "       width=\"24px\">\n",
              "    <path d=\"M0 0h24v24H0V0z\" fill=\"none\"/>\n",
              "    <path d=\"M18.56 5.44l.94 2.06.94-2.06 2.06-.94-2.06-.94-.94-2.06-.94 2.06-2.06.94zm-11 1L8.5 8.5l.94-2.06 2.06-.94-2.06-.94L8.5 2.5l-.94 2.06-2.06.94zm10 10l.94 2.06.94-2.06 2.06-.94-2.06-.94-.94-2.06-.94 2.06-2.06.94z\"/><path d=\"M17.41 7.96l-1.37-1.37c-.4-.4-.92-.59-1.43-.59-.52 0-1.04.2-1.43.59L10.3 9.45l-7.72 7.72c-.78.78-.78 2.05 0 2.83L4 21.41c.39.39.9.59 1.41.59.51 0 1.02-.2 1.41-.59l7.78-7.78 2.81-2.81c.8-.78.8-2.07 0-2.86zM5.41 20L4 18.59l7.72-7.72 1.47 1.35L5.41 20z\"/>\n",
              "  </svg>\n",
              "      </button>\n",
              "      \n",
              "  <style>\n",
              "    .colab-df-container {\n",
              "      display:flex;\n",
              "      flex-wrap:wrap;\n",
              "      gap: 12px;\n",
              "    }\n",
              "\n",
              "    .colab-df-convert {\n",
              "      background-color: #E8F0FE;\n",
              "      border: none;\n",
              "      border-radius: 50%;\n",
              "      cursor: pointer;\n",
              "      display: none;\n",
              "      fill: #1967D2;\n",
              "      height: 32px;\n",
              "      padding: 0 0 0 0;\n",
              "      width: 32px;\n",
              "    }\n",
              "\n",
              "    .colab-df-convert:hover {\n",
              "      background-color: #E2EBFA;\n",
              "      box-shadow: 0px 1px 2px rgba(60, 64, 67, 0.3), 0px 1px 3px 1px rgba(60, 64, 67, 0.15);\n",
              "      fill: #174EA6;\n",
              "    }\n",
              "\n",
              "    [theme=dark] .colab-df-convert {\n",
              "      background-color: #3B4455;\n",
              "      fill: #D2E3FC;\n",
              "    }\n",
              "\n",
              "    [theme=dark] .colab-df-convert:hover {\n",
              "      background-color: #434B5C;\n",
              "      box-shadow: 0px 1px 3px 1px rgba(0, 0, 0, 0.15);\n",
              "      filter: drop-shadow(0px 1px 2px rgba(0, 0, 0, 0.3));\n",
              "      fill: #FFFFFF;\n",
              "    }\n",
              "  </style>\n",
              "\n",
              "      <script>\n",
              "        const buttonEl =\n",
              "          document.querySelector('#df-f8800632-1df5-4fa5-b8e6-82d74f4b98c5 button.colab-df-convert');\n",
              "        buttonEl.style.display =\n",
              "          google.colab.kernel.accessAllowed ? 'block' : 'none';\n",
              "\n",
              "        async function convertToInteractive(key) {\n",
              "          const element = document.querySelector('#df-f8800632-1df5-4fa5-b8e6-82d74f4b98c5');\n",
              "          const dataTable =\n",
              "            await google.colab.kernel.invokeFunction('convertToInteractive',\n",
              "                                                     [key], {});\n",
              "          if (!dataTable) return;\n",
              "\n",
              "          const docLinkHtml = 'Like what you see? Visit the ' +\n",
              "            '<a target=\"_blank\" href=https://colab.research.google.com/notebooks/data_table.ipynb>data table notebook</a>'\n",
              "            + ' to learn more about interactive tables.';\n",
              "          element.innerHTML = '';\n",
              "          dataTable['output_type'] = 'display_data';\n",
              "          await google.colab.output.renderOutput(dataTable, element);\n",
              "          const docLink = document.createElement('div');\n",
              "          docLink.innerHTML = docLinkHtml;\n",
              "          element.appendChild(docLink);\n",
              "        }\n",
              "      </script>\n",
              "    </div>\n",
              "  </div>\n",
              "  "
            ],
            "text/plain": [
              "            product  ... consumer_disputed\n",
              "0   Debt collection  ...                 0\n",
              "1  Credit reporting  ...                 0\n",
              "2   Debt collection  ...                 1\n",
              "3          Mortgage  ...                 0\n",
              "4      Student loan  ...                 1\n",
              "\n",
              "[5 rows x 11 columns]"
            ]
          },
          "metadata": {},
          "execution_count": 6
        }
      ]
    },
    {
      "cell_type": "markdown",
      "source": [
        "##Generating Statistics from data"
      ],
      "metadata": {
        "id": "-Cxvu_YN0-pU"
      }
    },
    {
      "cell_type": "markdown",
      "source": [
        ""
      ],
      "metadata": {
        "id": "47OFerxA1CVG"
      }
    }
  ]
}