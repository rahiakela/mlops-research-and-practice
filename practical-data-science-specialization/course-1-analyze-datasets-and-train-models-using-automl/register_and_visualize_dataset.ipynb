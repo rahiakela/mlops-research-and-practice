{
  "nbformat": 4,
  "nbformat_minor": 0,
  "metadata": {
    "colab": {
      "name": "register-and-visualize-dataset.ipynb",
      "provenance": [],
      "toc_visible": true,
      "authorship_tag": "ABX9TyO4HQu7lrXXj7eVrTCrJ6s2",
      "include_colab_link": true
    },
    "kernelspec": {
      "name": "python3",
      "display_name": "Python 3"
    },
    "language_info": {
      "name": "python"
    }
  },
  "cells": [
    {
      "cell_type": "markdown",
      "metadata": {
        "id": "view-in-github",
        "colab_type": "text"
      },
      "source": [
        "<a href=\"https://colab.research.google.com/github/rahiakela/mlops-research-and-practice/blob/main/practical-data-science-specialization/course-1-analyze-datasets-and-train-models-using-automl/register_and_visualize_dataset.ipynb\" target=\"_parent\"><img src=\"https://colab.research.google.com/assets/colab-badge.svg\" alt=\"Open In Colab\"/></a>"
      ]
    },
    {
      "cell_type": "markdown",
      "source": [
        "##Register and visualize dataset"
      ],
      "metadata": {
        "id": "qUemI_Fs5Iz-"
      }
    },
    {
      "cell_type": "markdown",
      "source": [
        "In this lab you will ingest and transform the customer product reviews dataset. Then you will use AWS data stack services such as AWS Glue and Amazon Athena for ingesting and querying the dataset. Finally you will use AWS Data Wrangler to analyze the dataset and plot some visuals extracting insights."
      ],
      "metadata": {
        "id": "5KeAWk7v5Jbj"
      }
    },
    {
      "cell_type": "markdown",
      "source": [
        "##Table of Contents"
      ],
      "metadata": {
        "id": "FOsYW0k55i1B"
      }
    },
    {
      "cell_type": "markdown",
      "source": [
        "- [1. Ingest and transform the public dataset](#c1w1-1.)\n",
        "  - [1.1. List the dataset files in the public S3 bucket](#c1w1-1.1.)\n",
        "    - [Exercise 1](#c1w1-ex-1)\n",
        "  - [1.2. Copy the data locally to the notebook](#c1w1-1.2.)\n",
        "  - [1.3. Transform the data](#c1w1-1.3.)\n",
        "  - [1.4 Write the data to a CSV file](#c1w1-1.4.)\n",
        "- [2. Register the public dataset for querying and visualizing](#c1w1-2.)\n",
        "  - [2.1. Register S3 dataset files as a table for querying](#c1w1-2.1.)\n",
        "    - [Exercise 2](#c1w1-ex-2)\n",
        "  - [2.2. Create default S3 bucket for Amazon Athena](#c1w1-2.2.)\n",
        "- [3. Visualize data](#c1w1-3.)\n",
        "  - [3.1. Preparation for data visualization](#c1w1-3.1.)\n",
        "  - [3.2. How many reviews per sentiment?](#c1w1-3.2.)\n",
        "    - [Exercise 3](#c1w1-ex-3)\n",
        "  - [3.3. Which product categories are highest rated by average sentiment?](#c1w1-3.3.)\n",
        "  - [3.4. Which product categories have the most reviews?](#c1w1-3.4.)\n",
        "    - [Exercise 4](#c1w1-ex-4)\n",
        "  - [3.5. What is the breakdown of sentiments per product category?](#c1w1-3.5.)\n",
        "  - [3.6. Analyze the distribution of review word counts](#c1w1-3.6.)"
      ],
      "metadata": {
        "id": "NA48-8Ky5lBX"
      }
    },
    {
      "cell_type": "markdown",
      "source": [
        "##Setup"
      ],
      "metadata": {
        "id": "yE0mm_fi5tYh"
      }
    },
    {
      "cell_type": "code",
      "source": [
        "!sudo pip -q install awscli --force-reinstall --upgrade\n",
        "!aws --version"
      ],
      "metadata": {
        "id": "MaWRq7fn8Z5Q"
      },
      "execution_count": null,
      "outputs": []
    },
    {
      "cell_type": "markdown",
      "source": [
        "Let's install the required modules first."
      ],
      "metadata": {
        "id": "1xE027ZC5qO7"
      }
    },
    {
      "cell_type": "code",
      "source": [
        "# please ignore warning messages during the installation\n",
        "!pip install --disable-pip-version-check -q sagemaker==2.35.0\n",
        "!pip install --disable-pip-version-check -q awswrangler==2.7.0\n",
        "#!pip install --disable-pip-version-check -q pandas==1.1.4\n",
        "#!pip install --disable-pip-version-check -q numpy==1.18.5\n",
        "#!pip install --disable-pip-version-check -q seaborn==0.11.0\n",
        "#!pip install --disable-pip-version-check -q matplotlib===3.3.3"
      ],
      "metadata": {
        "id": "l9kSkJT75vLE"
      },
      "execution_count": null,
      "outputs": []
    },
    {
      "cell_type": "code",
      "source": [
        "!wget -q https://raw.githubusercontent.com/luongtruong77/practical-data-science/main/Course1-Analyze-Datasets-and-Train-ML-Models-using-AutoML/C1-W1/womens_clothing_ecommerce_reviews.csv"
      ],
      "metadata": {
        "id": "zUJFXrb_Djbz"
      },
      "execution_count": null,
      "outputs": []
    },
    {
      "cell_type": "markdown",
      "source": [
        "<a name='c1w1-1.'></a>\n",
        "## 1. Ingest and transform the public dataset"
      ],
      "metadata": {
        "id": "QfmxlypJ6vG9"
      }
    },
    {
      "cell_type": "markdown",
      "source": [
        "The dataset [Women's Clothing Reviews](https://www.kaggle.com/nicapotato/womens-ecommerce-clothing-reviews) has been chosen as the main dataset.\n",
        "\n",
        "It is shared in a public Amazon S3 bucket, and is available as a comma-separated value (CSV) text format:\n",
        "\n",
        "`s3://dlai-practical-data-science/data/raw/womens_clothing_ecommerce_reviews.csv`"
      ],
      "metadata": {
        "id": "P20KO1XC6xOO"
      }
    },
    {
      "cell_type": "markdown",
      "source": [
        "<a name='c1w1-1.1.'></a>\n",
        "### 1.1. List the dataset files in the public S3 bucket"
      ],
      "metadata": {
        "id": "synM98jK6-Sf"
      }
    },
    {
      "cell_type": "markdown",
      "source": [
        "The [AWS Command Line Interface (CLI)](https://awscli.amazonaws.com/v2/documentation/api/latest/index.html) is a unified tool to manage your AWS services. With just one tool, you can control multiple AWS services from the command line and automate them through scripts. You will use it to list the dataset files.\n",
        "\n",
        "**View dataset files in CSV format**\n",
        "\n",
        "```aws s3 ls [bucket_name]``` function lists all objects in the S3 bucket. Let's use it to view the reviews data files in CSV format:"
      ],
      "metadata": {
        "id": "vP69e5t76_BT"
      }
    },
    {
      "cell_type": "markdown",
      "source": [
        "<a name='c1w1-ex-1'></a>\n",
        "#### Exercise 1"
      ],
      "metadata": {
        "id": "n_L1QxeN7FNg"
      }
    },
    {
      "cell_type": "markdown",
      "source": [
        "View the list of the files available in the public bucket `s3://dlai-practical-data-science/data/raw/`.\n",
        "\n",
        "**Instructions**:\n",
        "Use `aws s3 ls [bucket_name]` function. To run the AWS CLI command from the notebook you will need to put an exclamation mark in front of it: `!aws`. You should see the data file `womens_clothing_ecommerce_reviews.csv` in the list."
      ],
      "metadata": {
        "id": "vh12lQz27Igr"
      }
    },
    {
      "cell_type": "code",
      "source": [
        "!aws s3 ls s3://dlai-practical-data-science/data/raw/\n",
        "\n",
        "# EXPECTED OUTPUT\n",
        "# ... womens_clothing_ecommerce_reviews.csv"
      ],
      "metadata": {
        "colab": {
          "base_uri": "https://localhost:8080/"
        },
        "id": "HRWJpfxK7KU9",
        "outputId": "457e7c99-34e1-41d5-e310-bff56f86a755"
      },
      "execution_count": null,
      "outputs": [
        {
          "output_type": "stream",
          "name": "stdout",
          "text": [
            "Unable to locate credentials. You can configure credentials by running \"aws configure\".\n"
          ]
        }
      ]
    },
    {
      "cell_type": "markdown",
      "source": [
        "<a name='c1w1-1.2.'></a>\n",
        "### 1.2. Copy the data locally to the notebook"
      ],
      "metadata": {
        "id": "rEAV9q5gDyVb"
      }
    },
    {
      "cell_type": "markdown",
      "source": [
        "```aws s3 cp [bucket_name/file_name] [file_name]``` function copies the file from the S3 bucket into the local environment or into another S3 bucket. Let's use it to copy the file with the dataset locally."
      ],
      "metadata": {
        "id": "gYGqOJNfDzQ0"
      }
    },
    {
      "cell_type": "code",
      "source": [
        "!aws s3 cp s3://dlai-practical-data-science/data/raw/womens_clothing_ecommerce_reviews.csv ./womens_clothing_ecommerce_reviews.csv"
      ],
      "metadata": {
        "id": "Ei2KxcKCD14M"
      },
      "execution_count": null,
      "outputs": []
    },
    {
      "cell_type": "markdown",
      "source": [
        "Now use the Pandas dataframe to load and preview the data."
      ],
      "metadata": {
        "id": "Qm_wZ5DxD5jZ"
      }
    },
    {
      "cell_type": "code",
      "source": [
        "import pandas as pd\n",
        "import csv\n",
        "\n",
        "df = pd.read_csv('./womens_clothing_ecommerce_reviews.csv', index_col=0)\n",
        "\n",
        "df.shape"
      ],
      "metadata": {
        "colab": {
          "base_uri": "https://localhost:8080/"
        },
        "id": "B0zwavOOD5_7",
        "outputId": "4f8c3934-bea6-45bf-b30a-87e1866eac28"
      },
      "execution_count": null,
      "outputs": [
        {
          "output_type": "execute_result",
          "data": {
            "text/plain": [
              "(23486, 10)"
            ]
          },
          "metadata": {},
          "execution_count": 9
        }
      ]
    },
    {
      "cell_type": "code",
      "source": [
        "df.head()"
      ],
      "metadata": {
        "colab": {
          "base_uri": "https://localhost:8080/",
          "height": 310
        },
        "id": "JBVpEYRKD_Ro",
        "outputId": "f18c3c11-2374-4b7e-96b8-b96c9c1c81a5"
      },
      "execution_count": null,
      "outputs": [
        {
          "output_type": "execute_result",
          "data": {
            "text/html": [
              "<div>\n",
              "<style scoped>\n",
              "    .dataframe tbody tr th:only-of-type {\n",
              "        vertical-align: middle;\n",
              "    }\n",
              "\n",
              "    .dataframe tbody tr th {\n",
              "        vertical-align: top;\n",
              "    }\n",
              "\n",
              "    .dataframe thead th {\n",
              "        text-align: right;\n",
              "    }\n",
              "</style>\n",
              "<table border=\"1\" class=\"dataframe\">\n",
              "  <thead>\n",
              "    <tr style=\"text-align: right;\">\n",
              "      <th></th>\n",
              "      <th>Clothing ID</th>\n",
              "      <th>Age</th>\n",
              "      <th>Title</th>\n",
              "      <th>Review Text</th>\n",
              "      <th>Rating</th>\n",
              "      <th>Recommended IND</th>\n",
              "      <th>Positive Feedback Count</th>\n",
              "      <th>Division Name</th>\n",
              "      <th>Department Name</th>\n",
              "      <th>Class Name</th>\n",
              "    </tr>\n",
              "  </thead>\n",
              "  <tbody>\n",
              "    <tr>\n",
              "      <th>0</th>\n",
              "      <td>847</td>\n",
              "      <td>33</td>\n",
              "      <td>Cute, crisp shirt</td>\n",
              "      <td>If this product was in petite  i would get the...</td>\n",
              "      <td>4</td>\n",
              "      <td>1</td>\n",
              "      <td>2</td>\n",
              "      <td>General</td>\n",
              "      <td>Tops</td>\n",
              "      <td>Blouses</td>\n",
              "    </tr>\n",
              "    <tr>\n",
              "      <th>1</th>\n",
              "      <td>1080</td>\n",
              "      <td>34</td>\n",
              "      <td>NaN</td>\n",
              "      <td>Love this dress!  it's sooo pretty.  i happene...</td>\n",
              "      <td>5</td>\n",
              "      <td>1</td>\n",
              "      <td>4</td>\n",
              "      <td>General</td>\n",
              "      <td>Dresses</td>\n",
              "      <td>Dresses</td>\n",
              "    </tr>\n",
              "    <tr>\n",
              "      <th>2</th>\n",
              "      <td>1077</td>\n",
              "      <td>60</td>\n",
              "      <td>Some major design flaws</td>\n",
              "      <td>I had such high hopes for this dress and reall...</td>\n",
              "      <td>3</td>\n",
              "      <td>0</td>\n",
              "      <td>0</td>\n",
              "      <td>General</td>\n",
              "      <td>Dresses</td>\n",
              "      <td>Dresses</td>\n",
              "    </tr>\n",
              "    <tr>\n",
              "      <th>3</th>\n",
              "      <td>1049</td>\n",
              "      <td>50</td>\n",
              "      <td>My favorite buy!</td>\n",
              "      <td>I love  love  love this jumpsuit. it's fun  fl...</td>\n",
              "      <td>5</td>\n",
              "      <td>1</td>\n",
              "      <td>0</td>\n",
              "      <td>General Petite</td>\n",
              "      <td>Bottoms</td>\n",
              "      <td>Pants</td>\n",
              "    </tr>\n",
              "    <tr>\n",
              "      <th>4</th>\n",
              "      <td>847</td>\n",
              "      <td>47</td>\n",
              "      <td>Flattering shirt</td>\n",
              "      <td>This shirt is very flattering to all due to th...</td>\n",
              "      <td>5</td>\n",
              "      <td>1</td>\n",
              "      <td>6</td>\n",
              "      <td>General</td>\n",
              "      <td>Tops</td>\n",
              "      <td>Blouses</td>\n",
              "    </tr>\n",
              "  </tbody>\n",
              "</table>\n",
              "</div>"
            ],
            "text/plain": [
              "   Clothing ID  Age  ... Department Name Class Name\n",
              "0          847   33  ...            Tops    Blouses\n",
              "1         1080   34  ...         Dresses    Dresses\n",
              "2         1077   60  ...         Dresses    Dresses\n",
              "3         1049   50  ...         Bottoms      Pants\n",
              "4          847   47  ...            Tops    Blouses\n",
              "\n",
              "[5 rows x 10 columns]"
            ]
          },
          "metadata": {},
          "execution_count": 10
        }
      ]
    },
    {
      "cell_type": "markdown",
      "source": [
        "<a name='c1w1-1.3.'></a>\n",
        "### 1.3. Transform the data"
      ],
      "metadata": {
        "id": "HJLa2dzPEEZ-"
      }
    },
    {
      "cell_type": "markdown",
      "source": [
        "To simplify the task, you will transform the data into a comma-separated value (CSV) file that contains only a `review_body`, `product_category`, and `sentiment` derived from the original data."
      ],
      "metadata": {
        "id": "Pm1oRwSuEEz-"
      }
    },
    {
      "cell_type": "code",
      "source": [
        "df_transformed = df.rename(columns={'Review Text': 'review_body',\n",
        "                                    'Rating': 'star_rating',\n",
        "                                    'Class Name': 'product_category'})\n",
        "df_transformed.drop(columns=['Clothing ID', 'Age', 'Title', 'Recommended IND', 'Positive Feedback Count', 'Division Name', 'Department Name'], inplace=True)\n",
        "\n",
        "df_transformed.dropna(inplace=True)\n",
        "\n",
        "df_transformed.shape"
      ],
      "metadata": {
        "colab": {
          "base_uri": "https://localhost:8080/"
        },
        "id": "Plq2TMVsEGuz",
        "outputId": "dd2e1dc0-cc18-4ff4-af2f-7d913b92256b"
      },
      "execution_count": null,
      "outputs": [
        {
          "output_type": "execute_result",
          "data": {
            "text/plain": [
              "(22628, 3)"
            ]
          },
          "metadata": {},
          "execution_count": 11
        }
      ]
    },
    {
      "cell_type": "markdown",
      "source": [
        "Now convert the `star_rating` into the `sentiment` (positive, neutral, negative), which later on will be for the prediction."
      ],
      "metadata": {
        "id": "NRNxi4p_ERSy"
      }
    },
    {
      "cell_type": "code",
      "source": [
        ""
      ],
      "metadata": {
        "id": "VdyCLO11ERvH"
      },
      "execution_count": null,
      "outputs": []
    }
  ]
}