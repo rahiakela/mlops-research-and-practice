{
  "nbformat": 4,
  "nbformat_minor": 0,
  "metadata": {
    "colab": {
      "name": "03-quantization-and-pruning.ipynb",
      "provenance": [],
      "toc_visible": true,
      "authorship_tag": "ABX9TyNG98fPRRJWrVwBrU4jAQU9",
      "include_colab_link": true
    },
    "kernelspec": {
      "name": "python3",
      "display_name": "Python 3"
    },
    "language_info": {
      "name": "python"
    }
  },
  "cells": [
    {
      "cell_type": "markdown",
      "metadata": {
        "id": "view-in-github",
        "colab_type": "text"
      },
      "source": [
        "<a href=\"https://colab.research.google.com/github/rahiakela/mlops-research-and-practice/blob/main/MLOps-Specialization/course-3-machine-learning-modeling-pipelines-in-production/week-2-model-resource-management-techniques/03_quantization_and_pruning.ipynb\" target=\"_parent\"><img src=\"https://colab.research.google.com/assets/colab-badge.svg\" alt=\"Open In Colab\"/></a>"
      ]
    },
    {
      "cell_type": "markdown",
      "source": [
        "##Quantization and Pruning"
      ],
      "metadata": {
        "id": "FEsIH7e4Bhhw"
      }
    },
    {
      "cell_type": "markdown",
      "source": [
        "In this lab, you will get some hands-on practice with the mobile optimization techniques discussed in the lectures. These enable model size reduction and increased latency which makes it ideal for edge and IOT devices. You will start by training a Keras model then compare its model size and accuracy after going through these techniques:\n",
        "\n",
        "* post-training quantization\n",
        "* quantization aware training\n",
        "* weight pruning\n",
        "\n",
        "Let's begin!"
      ],
      "metadata": {
        "id": "db23W4jGBijl"
      }
    },
    {
      "cell_type": "markdown",
      "source": [
        "##Setup"
      ],
      "metadata": {
        "id": "bGHT0HJWBqUl"
      }
    },
    {
      "cell_type": "code",
      "source": [
        "import tensorflow as tf\n",
        "import numpy as np\n",
        "import os\n",
        "import tempfile\n",
        "import zipfile"
      ],
      "metadata": {
        "id": "7UorAYY2BrSt"
      },
      "execution_count": 1,
      "outputs": []
    },
    {
      "cell_type": "markdown",
      "source": [
        "Let's first define a few string constants and utility functions to make our code easier to maintain."
      ],
      "metadata": {
        "id": "3Jo0VAtHBzWu"
      }
    },
    {
      "cell_type": "code",
      "source": [
        "# GLOBAL VARIABLES\n",
        "\n",
        "# String constants for model filenames\n",
        "FILE_WEIGHTS = 'baseline_weights.h5'\n",
        "FILE_NON_QUANTIZED_H5 = 'non_quantized.h5'\n",
        "FILE_NON_QUANTIZED_TFLITE = 'non_quantized.tflite'\n",
        "FILE_PT_QUANTIZED = 'post_training_quantized.tflite'\n",
        "FILE_QAT_QUANTIZED = 'quant_aware_quantized.tflite'\n",
        "FILE_PRUNED_MODEL_H5 = 'pruned_model.h5'\n",
        "FILE_PRUNED_QUANTIZED_TFLITE = 'pruned_quantized.tflite'\n",
        "FILE_PRUNED_NON_QUANTIZED_TFLITE = 'pruned_non_quantized.tflite'\n",
        "\n",
        "# Dictionaries to hold measurements\n",
        "MODEL_SIZE = {}\n",
        "ACCURACY = {}"
      ],
      "metadata": {
        "id": "9UuJzpMoBz65"
      },
      "execution_count": 2,
      "outputs": []
    },
    {
      "cell_type": "code",
      "source": [
        "# UTILITY FUNCTIONS\n",
        "\n",
        "def print_metric(metric_dict, metric_name):\n",
        "  '''Prints key and values stored in a dictionary'''\n",
        "  for metric, value in metric_dict.items():\n",
        "    print(f'{metric_name} for {metric}: {value}')\n",
        "\n",
        "\n",
        "def model_builder():\n",
        "  '''Returns a shallow CNN for training on the MNIST dataset'''\n",
        "\n",
        "  keras = tf.keras\n",
        "\n",
        "  # Define the model architecture.\n",
        "  model = keras.Sequential([\n",
        "    keras.layers.InputLayer(input_shape=(28, 28)),\n",
        "    keras.layers.Reshape(target_shape=(28, 28, 1)),\n",
        "    keras.layers.Conv2D(filters=12, kernel_size=(3, 3), activation='relu'),\n",
        "    keras.layers.MaxPooling2D(pool_size=(2, 2)),\n",
        "    keras.layers.Flatten(),\n",
        "    keras.layers.Dense(10, activation='softmax')\n",
        "  ])\n",
        "\n",
        "  return model\n",
        "\n",
        "\n",
        "def evaluate_tflite_model(filename, x_test, y_test):\n",
        "  '''\n",
        "  Measures the accuracy of a given TF Lite model and test set\n",
        "  \n",
        "  Args:\n",
        "    filename (string) - filename of the model to load\n",
        "    x_test (numpy array) - test images\n",
        "    y_test (numpy array) - test labels\n",
        "\n",
        "  Returns\n",
        "    float showing the accuracy against the test set\n",
        "  '''\n",
        "\n",
        "  # Initialize the TF Lite Interpreter and allocate tensors\n",
        "  interpreter = tf.lite.Interpreter(model_path=filename)\n",
        "  interpreter.allocate_tensors()\n",
        "\n",
        "  # Get input and output index\n",
        "  input_index = interpreter.get_input_details()[0][\"index\"]\n",
        "  output_index = interpreter.get_output_details()[0][\"index\"]\n",
        "\n",
        "  # Initialize empty predictions list\n",
        "  prediction_digits = []\n",
        "  \n",
        "  # Run predictions on every image in the \"test\" dataset.\n",
        "  for i, test_image in enumerate(x_test):\n",
        "    # Pre-processing: add batch dimension and convert to float32 to match with\n",
        "    # the model's input data format.\n",
        "    test_image = np.expand_dims(test_image, axis=0).astype(np.float32)\n",
        "    interpreter.set_tensor(input_index, test_image)\n",
        "\n",
        "    # Run inference.\n",
        "    interpreter.invoke()\n",
        "\n",
        "    # Post-processing: remove batch dimension and find the digit with highest\n",
        "    # probability.\n",
        "    output = interpreter.tensor(output_index)\n",
        "    digit = np.argmax(output()[0])\n",
        "    prediction_digits.append(digit)\n",
        "\n",
        "  # Compare prediction results with ground truth labels to calculate accuracy.\n",
        "  prediction_digits = np.array(prediction_digits)\n",
        "  accuracy = (prediction_digits == y_test).mean()\n",
        "  \n",
        "  return accuracy\n",
        "\n",
        "\n",
        "def get_gzipped_model_size(file):\n",
        "  '''Returns size of gzipped model, in bytes.'''\n",
        "  _, zipped_file = tempfile.mkstemp('.zip')\n",
        "  with zipfile.ZipFile(zipped_file, 'w', compression=zipfile.ZIP_DEFLATED) as f:\n",
        "    f.write(file)\n",
        "\n",
        "  return os.path.getsize(zipped_file)"
      ],
      "metadata": {
        "id": "odS6DRoCB3PY"
      },
      "execution_count": 3,
      "outputs": []
    },
    {
      "cell_type": "markdown",
      "source": [
        "## Download and Prepare the Dataset"
      ],
      "metadata": {
        "id": "56TMg1qvB8Rp"
      }
    },
    {
      "cell_type": "markdown",
      "source": [
        "You will be using the [MNIST](https://keras.io/api/datasets/mnist/) dataset which is hosted in [Keras Datasets](https://keras.io/api/datasets/). Some of the helper files in this notebook are made to work with this dataset so if you decide to switch to a different dataset, make sure to check if those helper functions need to be modified (e.g. shape of the Flatten layer in your model)."
      ],
      "metadata": {
        "id": "6gwOoWPGB8ry"
      }
    },
    {
      "cell_type": "code",
      "source": [
        "# Load MNIST dataset\n",
        "mnist = tf.keras.datasets.mnist\n",
        "(train_images, train_labels), (test_images, test_labels) = mnist.load_data()\n",
        "\n",
        "# Normalize the input image so that each pixel value is between 0 to 1.\n",
        "train_images = train_images / 255.0\n",
        "test_images = test_images / 255.0"
      ],
      "metadata": {
        "id": "0DQ-KcuoB_Mp",
        "outputId": "3dabb3ad-bf85-413f-a837-7fb266712aba",
        "colab": {
          "base_uri": "https://localhost:8080/"
        }
      },
      "execution_count": 4,
      "outputs": [
        {
          "output_type": "stream",
          "name": "stdout",
          "text": [
            "Downloading data from https://storage.googleapis.com/tensorflow/tf-keras-datasets/mnist.npz\n",
            "11493376/11490434 [==============================] - 0s 0us/step\n",
            "11501568/11490434 [==============================] - 0s 0us/step\n"
          ]
        }
      ]
    },
    {
      "cell_type": "markdown",
      "source": [
        "## Baseline Model"
      ],
      "metadata": {
        "id": "tBCse1KfCC3Q"
      }
    },
    {
      "cell_type": "markdown",
      "source": [
        "You will first build and train a Keras model. This will be the baseline where you will be comparing the mobile optimized versions later on. This will just be a shallow CNN with a softmax output to classify a given MNIST digit. You can review the `model_builder()` function in the utilities at the top of this notebook but we also printed the model summary below to show the architecture. \n",
        "\n",
        "You will also save the weights so you can reinitialize the other models later the same way. This is not needed in real projects but for this demo notebook, it would be good to have the same initial state later so you can compare the effects of the optimizations."
      ],
      "metadata": {
        "id": "dY1ur48OCE3z"
      }
    },
    {
      "cell_type": "code",
      "source": [
        "# Create the baseline model\n",
        "baseline_model = model_builder()\n",
        "\n",
        "# Save the initial weights for use later\n",
        "baseline_model.save_weights(FILE_WEIGHTS)\n",
        "\n",
        "# Print the model summary\n",
        "baseline_model.summary()"
      ],
      "metadata": {
        "id": "WJhN3EnmfTfC",
        "outputId": "2a778804-0003-48de-a374-f2200c6acb98",
        "colab": {
          "base_uri": "https://localhost:8080/"
        }
      },
      "execution_count": 5,
      "outputs": [
        {
          "output_type": "stream",
          "name": "stdout",
          "text": [
            "Model: \"sequential\"\n",
            "_________________________________________________________________\n",
            " Layer (type)                Output Shape              Param #   \n",
            "=================================================================\n",
            " reshape (Reshape)           (None, 28, 28, 1)         0         \n",
            "                                                                 \n",
            " conv2d (Conv2D)             (None, 26, 26, 12)        120       \n",
            "                                                                 \n",
            " max_pooling2d (MaxPooling2D  (None, 13, 13, 12)       0         \n",
            " )                                                               \n",
            "                                                                 \n",
            " flatten (Flatten)           (None, 2028)              0         \n",
            "                                                                 \n",
            " dense (Dense)               (None, 10)                20290     \n",
            "                                                                 \n",
            "=================================================================\n",
            "Total params: 20,410\n",
            "Trainable params: 20,410\n",
            "Non-trainable params: 0\n",
            "_________________________________________________________________\n"
          ]
        }
      ]
    },
    {
      "cell_type": "markdown",
      "source": [
        "You can then compile and train the model. In practice, it's best to shuffle the train set but for this demo, it is set to `False` for reproducibility of the results. One epoch below will reach around 91% accuracy."
      ],
      "metadata": {
        "id": "haiEb8zTf2Xv"
      }
    },
    {
      "cell_type": "code",
      "source": [
        "# Setup the model for training\n",
        "baseline_model.compile(optimizer=\"adam\", loss=\"sparse_categorical_crossentropy\", metrics=[\"accuracy\"])\n",
        "\n",
        "# train the model\n",
        "baseline_model.fit(train_images, train_labels, epochs=1, shuffle=False)"
      ],
      "metadata": {
        "id": "fjl21eSVf2wU",
        "outputId": "abba99a5-fdfe-4cee-df00-64a3e1b9d688",
        "colab": {
          "base_uri": "https://localhost:8080/"
        }
      },
      "execution_count": 6,
      "outputs": [
        {
          "output_type": "stream",
          "name": "stdout",
          "text": [
            "1875/1875 [==============================] - 21s 11ms/step - loss: 0.2925 - accuracy: 0.9190\n"
          ]
        },
        {
          "output_type": "execute_result",
          "data": {
            "text/plain": [
              "<keras.callbacks.History at 0x7f65befa6210>"
            ]
          },
          "metadata": {},
          "execution_count": 6
        }
      ]
    },
    {
      "cell_type": "markdown",
      "source": [
        "Let's save the accuracy of the model against the test set so you can compare later."
      ],
      "metadata": {
        "id": "lSTGE7hZgcnX"
      }
    },
    {
      "cell_type": "code",
      "source": [
        "# Get the baseline accuracy\n",
        "_, ACCURACY[\"baseline Keras model\"] = baseline_model.evaluate(test_images, test_labels)"
      ],
      "metadata": {
        "id": "b4v8DIrVgdFc",
        "outputId": "c0178a4e-b427-4386-8982-4cc2b8549d07",
        "colab": {
          "base_uri": "https://localhost:8080/"
        }
      },
      "execution_count": 7,
      "outputs": [
        {
          "output_type": "stream",
          "name": "stdout",
          "text": [
            "313/313 [==============================] - 2s 6ms/step - loss: 0.1402 - accuracy: 0.9586\n"
          ]
        }
      ]
    },
    {
      "cell_type": "markdown",
      "source": [
        "Next, you will save the Keras model as a file and record its size as well."
      ],
      "metadata": {
        "id": "IE2BAbMSgsKI"
      }
    },
    {
      "cell_type": "code",
      "source": [
        "# Save the Keras model\n",
        "baseline_model.save(FILE_NON_QUANTIZED_H5, include_optimizer=False)\n",
        "\n",
        "# Save and get the model size\n",
        "MODEL_SIZE[\"baseline Keras model\"] = os.path.getsize(FILE_NON_QUANTIZED_H5)\n",
        "\n",
        "# Print records so far\n",
        "print_metric(ACCURACY, \"test accuracy\")\n",
        "print_metric(MODEL_SIZE, \"model size in bytes\")"
      ],
      "metadata": {
        "id": "M6Ldt2A5gsl6",
        "outputId": "ad100dae-539a-4f22-d662-77701f1f726d",
        "colab": {
          "base_uri": "https://localhost:8080/"
        }
      },
      "execution_count": 8,
      "outputs": [
        {
          "output_type": "stream",
          "name": "stdout",
          "text": [
            "test accuracy for baseline Keras model: 0.9585999846458435\n",
            "model size in bytes for baseline Keras model: 99144\n"
          ]
        }
      ]
    },
    {
      "cell_type": "markdown",
      "source": [
        "### Convert the model to TF Lite format"
      ],
      "metadata": {
        "id": "Yvo4oYyjjCvf"
      }
    },
    {
      "cell_type": "markdown",
      "source": [
        "Next, you will convert the model to [Tensorflow Lite (TF Lite)](https://www.tensorflow.org/lite/guide) format. This is designed to make Tensorflow models more efficient and lightweight when running on mobile, embedded, and IOT devices. \n",
        "\n",
        "You can convert a Keras model with TF Lite's [Converter](https://www.tensorflow.org/lite/convert/index) class and we've incorporated it in the short helper function below. Notice that there is a `quantize` flag which you can use to quantize the model."
      ],
      "metadata": {
        "id": "AHlIkCZ1jDQE"
      }
    },
    {
      "cell_type": "code",
      "source": [
        "def convert_tflite(model, filename, quantize=False):\n",
        "  \"\"\"\n",
        "  Converts the model to TF Lite format and writes to a file\n",
        "  Args:\n",
        "    model (Keras model) - model to convert to TF Lite\n",
        "    filename (string) - string to use when saving the file\n",
        "    quantize (bool) - flag to indicate quantization\n",
        "  Returns:\n",
        "    None\n",
        "  \"\"\"\n",
        "  # Initialize the converter\n",
        "  converter = tf.lite.TFLiteConverter.from_keras_model(model)\n",
        "\n",
        "  # Set for quantization if flag is set to True\n",
        "  if quantize:\n",
        "    converter.optimizations = [tf.lite.Optimize.DEFAULT]\n",
        "\n",
        "  # covert the model\n",
        "  tflite_model = converter.convert()   # type of `tflite_model` is bytes\n",
        "\n",
        "  # save the model\n",
        "  with open(filename, \"wb\") as f:\n",
        "    f.write(tflite_model)"
      ],
      "metadata": {
        "id": "l7LWRd-VjFqm"
      },
      "execution_count": 9,
      "outputs": []
    },
    {
      "cell_type": "markdown",
      "source": [
        "You will use the helper function to convert the Keras model then get its size and accuracy. \n",
        "\n",
        "Take note that this is *not yet* quantized."
      ],
      "metadata": {
        "id": "RQpCks49kQWg"
      }
    },
    {
      "cell_type": "code",
      "source": [
        "# Convert baseline model\n",
        "convert_tflite(baseline_model, FILE_NON_QUANTIZED_TFLITE)"
      ],
      "metadata": {
        "id": "CfXpExSwkQwb",
        "outputId": "43a43e58-8653-44eb-b641-f25450d0132a",
        "colab": {
          "base_uri": "https://localhost:8080/"
        }
      },
      "execution_count": 10,
      "outputs": [
        {
          "output_type": "stream",
          "name": "stdout",
          "text": [
            "INFO:tensorflow:Assets written to: /tmp/tmppt4ip4o4/assets\n"
          ]
        },
        {
          "output_type": "stream",
          "name": "stderr",
          "text": [
            "WARNING:absl:Buffer deduplication procedure will be skipped when flatbuffer library is not properly loaded\n"
          ]
        }
      ]
    },
    {
      "cell_type": "markdown",
      "source": [
        "You will notice that there is already a slight decrease in model size when converting to `.tflite` format."
      ],
      "metadata": {
        "id": "N4Xoy3T0kiKC"
      }
    },
    {
      "cell_type": "code",
      "source": [
        "MODEL_SIZE[\"non-quantized tflite\"] = os.path.getsize(FILE_NON_QUANTIZED_TFLITE)\n",
        "print_metric(MODEL_SIZE, \"model size in bytes\")"
      ],
      "metadata": {
        "id": "gAJZoM4fkijo",
        "outputId": "744a23de-9803-46d3-88a1-1f66b71522ba",
        "colab": {
          "base_uri": "https://localhost:8080/"
        }
      },
      "execution_count": 11,
      "outputs": [
        {
          "output_type": "stream",
          "name": "stdout",
          "text": [
            "model size in bytes for baseline Keras model: 99144\n",
            "model size in bytes for non-quantized tflite: 84728\n"
          ]
        }
      ]
    },
    {
      "cell_type": "markdown",
      "source": [
        "The accuracy will also be nearly identical when converting between formats. You can setup a TF Lite model for input-output using its [Interpreter](https://www.tensorflow.org/api_docs/python/tf/lite/Interpreter) class. This is shown in the `evaluate_tflite_model()` helper function provided in the `Utilities` section earlier.\n",
        "\n",
        "*Note: If you see a `Runtime Error: There is at least 1 reference to internal data in the interpreter in the form of a numpy array or slice.` , please try re-running the cell.*"
      ],
      "metadata": {
        "id": "ZLQWRn1mk1wX"
      }
    },
    {
      "cell_type": "code",
      "source": [
        "ACCURACY[\"non-quantized tflite\"] = evaluate_tflite_model(FILE_NON_QUANTIZED_TFLITE, test_images, test_labels)\n",
        "print_metric(ACCURACY, \"test accuracy\")"
      ],
      "metadata": {
        "id": "dRq4Sjchk3mr",
        "outputId": "ec0c938b-9185-4f93-e22a-40d816d9a4ca",
        "colab": {
          "base_uri": "https://localhost:8080/"
        }
      },
      "execution_count": 12,
      "outputs": [
        {
          "output_type": "stream",
          "name": "stdout",
          "text": [
            "test accuracy for baseline Keras model: 0.9585999846458435\n",
            "test accuracy for non-quantized tflite: 0.9586\n"
          ]
        }
      ]
    },
    {
      "cell_type": "markdown",
      "source": [
        "### Post-Training Quantization"
      ],
      "metadata": {
        "id": "Tv7_F8XtliE1"
      }
    },
    {
      "cell_type": "markdown",
      "source": [
        "Now that you have the baseline metrics, you can now observe the effects of quantization. As mentioned in the lectures, this process involves converting floating point representations into integer to reduce model size and achieve faster computation.\n",
        "\n",
        "As shown in the `convert_tflite()` helper function earlier, you can easily do [post-training quantization](https://www.tensorflow.org/lite/performance/post_training_quantization) with the TF Lite API. You just need to set the converter optimization and assign an [Optimize](https://www.tensorflow.org/api_docs/python/tf/lite/Optimize) Enum.\n",
        "\n",
        "You will set the `quantize` flag to do that and get the metrics again."
      ],
      "metadata": {
        "id": "JkmAr4Qtli0h"
      }
    },
    {
      "cell_type": "code",
      "source": [
        "# Convert and quantize the baseline model\n",
        "convert_tflite(baseline_model, FILE_PT_QUANTIZED, quantize=True)"
      ],
      "metadata": {
        "id": "oBrVx9dellTG",
        "outputId": "2cd1f173-6b0e-4fee-d5fb-5806671d515d",
        "colab": {
          "base_uri": "https://localhost:8080/"
        }
      },
      "execution_count": 13,
      "outputs": [
        {
          "output_type": "stream",
          "name": "stdout",
          "text": [
            "INFO:tensorflow:Assets written to: /tmp/tmp4dnxl_vp/assets\n"
          ]
        },
        {
          "output_type": "stream",
          "name": "stderr",
          "text": [
            "INFO:tensorflow:Assets written to: /tmp/tmp4dnxl_vp/assets\n",
            "WARNING:absl:Buffer deduplication procedure will be skipped when flatbuffer library is not properly loaded\n"
          ]
        }
      ]
    },
    {
      "cell_type": "code",
      "source": [
        "# get the model size\n",
        "MODEL_SIZE[\"post-training quantized tflite\"] = os.path.getsize(FILE_PT_QUANTIZED)\n",
        "print_metric(MODEL_SIZE, \"model size\")"
      ],
      "metadata": {
        "id": "IclRcoW9oFh7",
        "outputId": "3941c0e1-a2be-459a-a53a-0a6751f6b472",
        "colab": {
          "base_uri": "https://localhost:8080/"
        }
      },
      "execution_count": 14,
      "outputs": [
        {
          "output_type": "stream",
          "name": "stdout",
          "text": [
            "model size for baseline Keras model: 99144\n",
            "model size for non-quantized tflite: 84728\n",
            "model size for post-training quantized tflite: 24112\n"
          ]
        }
      ]
    },
    {
      "cell_type": "markdown",
      "source": [
        "You should see around a 4X reduction in model size in the quantized version. This comes from converting the 32 bit representations (float) into 8 bits (integer)."
      ],
      "metadata": {
        "id": "c-0O0Jk5oeOz"
      }
    },
    {
      "cell_type": "code",
      "source": [
        "ACCURACY[\"post-training quantized tflite\"] = evaluate_tflite_model(FILE_PT_QUANTIZED, test_images, test_labels)\n",
        "print_metric(ACCURACY, \"test accuracy\")"
      ],
      "metadata": {
        "id": "C8TyaaOoofeC",
        "outputId": "26eb6add-c006-4427-ff52-5cc468898728",
        "colab": {
          "base_uri": "https://localhost:8080/"
        }
      },
      "execution_count": 15,
      "outputs": [
        {
          "output_type": "stream",
          "name": "stdout",
          "text": [
            "test accuracy for baseline Keras model: 0.9585999846458435\n",
            "test accuracy for non-quantized tflite: 0.9586\n",
            "test accuracy for post-training quantized tflite: 0.9595\n"
          ]
        }
      ]
    },
    {
      "cell_type": "markdown",
      "source": [
        "As mentioned in the lecture, you can expect the accuracy to not be the same when quantizing the model. Most of the time it will decrease but in some cases, it can even increase. Again, this can be attributed to the loss of precision when you remove the extra bits from the float data."
      ],
      "metadata": {
        "id": "SaYfbnDxoznT"
      }
    },
    {
      "cell_type": "markdown",
      "source": [
        "## Quantization Aware Training"
      ],
      "metadata": {
        "id": "PaKTH5yro0Lf"
      }
    },
    {
      "cell_type": "markdown",
      "source": [
        "When post-training quantization results in loss of accuracy that is unacceptable for your application, you can consider doing [quantization aware training](https://www.tensorflow.org/model_optimization/guide/quantization/training) before quantizing the model. This simulates the loss of precision by inserting fake quant nodes in the model during training. That way, your model will learn to adapt with the loss of precision to get more accurate predictions.\n",
        "\n",
        "The [Tensorflow Model Optimization Toolkit](https://www.tensorflow.org/model_optimization) provides a [quantize_model()](https://www.tensorflow.org/model_optimization/api_docs/python/tfmot/quantization/keras/quantize_model) method to do this quickly and you will see that below. \n",
        "\n",
        "But first, let's install the toolkit into the notebook environment."
      ],
      "metadata": {
        "id": "7_yxqW4yo65N"
      }
    },
    {
      "cell_type": "code",
      "source": [
        "# Install the toolkit\n",
        "!pip install tensorflow_model_optimization\n",
        "!pip show tensorflow_model_optimization"
      ],
      "metadata": {
        "id": "3hgZR6WMo9wx"
      },
      "execution_count": null,
      "outputs": []
    },
    {
      "cell_type": "markdown",
      "source": [
        "You will build the baseline model again but this time, you will pass it into the `quantize_model()` method to indicate quantization aware training.\n",
        "\n",
        "Take note that in case you decide to pass in a model that is already trained, then make sure to recompile before you continue training."
      ],
      "metadata": {
        "id": "UsGAUHlYfcCw"
      }
    },
    {
      "cell_type": "code",
      "source": [
        "import tensorflow_model_optimization as tfmot"
      ],
      "metadata": {
        "id": "nBUSChUJfdRv"
      },
      "execution_count": 18,
      "outputs": []
    },
    {
      "cell_type": "code",
      "source": [
        "# method to quantize a Keras model\n",
        "quantize_model = tfmot.quantization.keras.quantize_model\n",
        "\n",
        "# Define the model architecture.\n",
        "model_to_quantize = model_builder()\n",
        "\n",
        "# Reinitialize weights with saved file\n",
        "model_to_quantize.load_weights(FILE_WEIGHTS)\n",
        "\n",
        "# Quantize the model\n",
        "q_aware_model = quantize_model(model_to_quantize)\n",
        "\n",
        "# `quantize_model` requires a recompile.\n",
        "q_aware_model.compile(optimizer=\"adam\", loss=\"sparse_categorical_crossentropy\", metrics=[\"accuracy\"])\n",
        "\n",
        "q_aware_model.summary()"
      ],
      "metadata": {
        "id": "G25JeqjTfuaQ",
        "outputId": "6445b45d-595b-495c-b3e0-580377ce12af",
        "colab": {
          "base_uri": "https://localhost:8080/"
        }
      },
      "execution_count": 19,
      "outputs": [
        {
          "output_type": "stream",
          "name": "stdout",
          "text": [
            "Model: \"sequential_1\"\n",
            "_________________________________________________________________\n",
            " Layer (type)                Output Shape              Param #   \n",
            "=================================================================\n",
            " quantize_layer (QuantizeLay  (None, 28, 28)           3         \n",
            " er)                                                             \n",
            "                                                                 \n",
            " quant_reshape_1 (QuantizeWr  (None, 28, 28, 1)        1         \n",
            " apperV2)                                                        \n",
            "                                                                 \n",
            " quant_conv2d_1 (QuantizeWra  (None, 26, 26, 12)       147       \n",
            " pperV2)                                                         \n",
            "                                                                 \n",
            " quant_max_pooling2d_1 (Quan  (None, 13, 13, 12)       1         \n",
            " tizeWrapperV2)                                                  \n",
            "                                                                 \n",
            " quant_flatten_1 (QuantizeWr  (None, 2028)             1         \n",
            " apperV2)                                                        \n",
            "                                                                 \n",
            " quant_dense_1 (QuantizeWrap  (None, 10)               20295     \n",
            " perV2)                                                          \n",
            "                                                                 \n",
            "=================================================================\n",
            "Total params: 20,448\n",
            "Trainable params: 20,410\n",
            "Non-trainable params: 38\n",
            "_________________________________________________________________\n"
          ]
        }
      ]
    },
    {
      "cell_type": "markdown",
      "source": [
        "You may have noticed a slight difference in the model summary above compared to the baseline model summary in the earlier sections. The total params count increased as expected because of the nodes added by the `quantize_model()` method.\n",
        "\n",
        "With that, you can now train the model. You will notice that the accuracy is a bit lower because the model is simulating the loss of precision. The training will take a bit longer if you want to achieve the same training accuracy as the earlier run. For this exercise though, we will keep to 1 epoch."
      ],
      "metadata": {
        "id": "01qg8BC_gi82"
      }
    },
    {
      "cell_type": "code",
      "source": [
        "# Train the model\n",
        "q_aware_model.fit(train_images, train_labels, epochs=1, shuffle=False)"
      ],
      "metadata": {
        "id": "2T9Fb-ghgmde",
        "outputId": "c943dda5-ca23-4e21-98de-08660504ef4d",
        "colab": {
          "base_uri": "https://localhost:8080/"
        }
      },
      "execution_count": 22,
      "outputs": [
        {
          "output_type": "stream",
          "name": "stdout",
          "text": [
            "1875/1875 [==============================] - 26s 14ms/step - loss: 0.3004 - accuracy: 0.9164\n"
          ]
        },
        {
          "output_type": "execute_result",
          "data": {
            "text/plain": [
              "<keras.callbacks.History at 0x7f65b98d7b10>"
            ]
          },
          "metadata": {},
          "execution_count": 22
        }
      ]
    },
    {
      "cell_type": "markdown",
      "source": [
        "You can then get the accuracy of the Keras model before and after quantizing the model. The accuracy is expected to be nearly identical because the model is trained to counter the effects of quantization."
      ],
      "metadata": {
        "id": "YV9d10RVhyhn"
      }
    },
    {
      "cell_type": "code",
      "source": [
        "# Reinitialize the dictionary\n",
        "ACCURACY = {}\n",
        "\n",
        "# Get the accuracy of the quantization aware trained model (not yet quantized)\n",
        "_, ACCURACY[\"quantization-aware non-quantized\"] = q_aware_model.evaluate(test_images, test_labels, verbose=0)\n",
        "print_metric(ACCURACY, \"test accuracy\")"
      ],
      "metadata": {
        "id": "RX4wazRRiIoL",
        "outputId": "b57c579a-66f1-49eb-9551-e2876ef98a9e",
        "colab": {
          "base_uri": "https://localhost:8080/"
        }
      },
      "execution_count": 23,
      "outputs": [
        {
          "output_type": "stream",
          "name": "stdout",
          "text": [
            "test accuracy for quantization-aware non-quantized: 0.9580000042915344\n"
          ]
        }
      ]
    },
    {
      "cell_type": "code",
      "source": [
        "# Convert and quantize the model.\n",
        "convert_tflite(q_aware_model, FILE_QAT_QUANTIZED, quantize=True)"
      ],
      "metadata": {
        "id": "9uK3Ln3xijAK",
        "outputId": "7caaf88c-856e-4b2b-dec0-1d55743cd1aa",
        "colab": {
          "base_uri": "https://localhost:8080/"
        }
      },
      "execution_count": 24,
      "outputs": [
        {
          "output_type": "stream",
          "name": "stderr",
          "text": [
            "WARNING:absl:Found untraced functions such as reshape_1_layer_call_fn, reshape_1_layer_call_and_return_conditional_losses, conv2d_1_layer_call_fn, conv2d_1_layer_call_and_return_conditional_losses, flatten_1_layer_call_fn while saving (showing 5 of 20). These functions will not be directly callable after loading.\n"
          ]
        },
        {
          "output_type": "stream",
          "name": "stdout",
          "text": [
            "INFO:tensorflow:Assets written to: /tmp/tmp9so092vs/assets\n"
          ]
        },
        {
          "output_type": "stream",
          "name": "stderr",
          "text": [
            "INFO:tensorflow:Assets written to: /tmp/tmp9so092vs/assets\n",
            "WARNING:absl:Buffer deduplication procedure will be skipped when flatbuffer library is not properly loaded\n"
          ]
        }
      ]
    },
    {
      "cell_type": "code",
      "source": [
        "# Get the model size\n",
        "MODEL_SIZE['quantization-aware quantized tflite'] = os.path.getsize(FILE_QAT_QUANTIZED)\n",
        "print_metric(MODEL_SIZE, 'model size')"
      ],
      "metadata": {
        "id": "PcvHZhBXirRZ",
        "outputId": "2023d48e-7784-49bc-9281-dc31fc7c5818",
        "colab": {
          "base_uri": "https://localhost:8080/"
        }
      },
      "execution_count": 25,
      "outputs": [
        {
          "output_type": "stream",
          "name": "stdout",
          "text": [
            "model size for baseline Keras model: 99144\n",
            "model size for non-quantized tflite: 84728\n",
            "model size for post-training quantized tflite: 24112\n",
            "model size for quantization-aware quantized tflite: 24936\n"
          ]
        }
      ]
    },
    {
      "cell_type": "code",
      "source": [
        "# Get the accuracy of the quantized model\n",
        "ACCURACY['quantization-aware quantized tflite'] = evaluate_tflite_model(FILE_QAT_QUANTIZED, test_images, test_labels)\n",
        "print_metric(ACCURACY, 'test accuracy')"
      ],
      "metadata": {
        "id": "ur6G2tc5iu9R",
        "outputId": "f0193ac9-dcbe-4b33-fbbb-c5f0642d5721",
        "colab": {
          "base_uri": "https://localhost:8080/"
        }
      },
      "execution_count": 27,
      "outputs": [
        {
          "output_type": "stream",
          "name": "stdout",
          "text": [
            "test accuracy for quantization-aware non-quantized: 0.9580000042915344\n",
            "test accuracy for quantization-aware quantized tflite: 0.958\n"
          ]
        }
      ]
    },
    {
      "cell_type": "markdown",
      "source": [
        "## Pruning"
      ],
      "metadata": {
        "id": "Wj9MZMN8i29r"
      }
    },
    {
      "cell_type": "markdown",
      "source": [
        "Let's now move on to another technique for reducing model size: [Pruning](https://www.tensorflow.org/model_optimization/guide/pruning/pruning_with_keras). This process involves zeroing out insignificant (i.e. low magnitude) weights. The intuition is these weights do not contribute as much to making predictions so you can remove them and get the same result. Making the weights sparse helps in compressing the model more efficiently and you will see that in this section.\n",
        "\n",
        "The Tensorflow Model Optimization Toolkit again has a convenience method for this. The [prune_low_magnitude()](https://www.tensorflow.org/model_optimization/api_docs/python/tfmot/sparsity/keras/prune_low_magnitude) method puts wrappers in a Keras model so it can be pruned during training. You will pass in the baseline model that you already trained earlier. You will notice that the model summary show increased params because of the wrapper layers added by the pruning method.\n",
        "\n",
        "You can set how the pruning is done during training. Below, you will use [PolynomialDecay](https://www.tensorflow.org/model_optimization/api_docs/python/tfmot/sparsity/keras/PolynomialDecay) to indicate how the sparsity ramps up with each step. Another option available in the library is [Constant Sparsity](https://www.tensorflow.org/model_optimization/api_docs/python/tfmot/sparsity/keras/ConstantSparsity)."
      ],
      "metadata": {
        "id": "dcjwPrpXi3jl"
      }
    },
    {
      "cell_type": "code",
      "source": [
        "# Get the pruning method\n",
        "prune_low_magnitude = tfmot.sparsity.keras.prune_low_magnitude\n",
        "\n",
        "# Compute end step to finish pruning after 2 epochs.\n",
        "batch_size = 128\n",
        "epochs = 2\n",
        "validation_split = 0.1 # 10% of training set will be used for validation set.\n",
        "\n",
        "num_images = train_images.shape[0] * (1 - validation_split)\n",
        "end_step = np.ceil(num_images / batch_size).astype(np.int32) * epochs\n",
        "\n",
        "# Define pruning schedule\n",
        "pruning_params = {\"pruning_schedule\": tfmot.sparsity.keras.PolynomialDecay(initial_sparsity=0.50,\n",
        "                                                                           final_sparsity=0.80,\n",
        "                                                                           begin_step=0,\n",
        "                                                                           end_step=end_step)}\n",
        "\n",
        "# Pass in the trained baseline model\n",
        "model_for_pruning = prune_low_magnitude(baseline_model, **pruning_params)\n",
        "\n",
        "# `prune_low_magnitude` requires a recompile.\n",
        "model_for_pruning.compile(optimizer=\"adam\", loss=\"sparse_categorical_crossentropy\", metrics=[\"accuracy\"])\n",
        "model_for_pruning.summary()"
      ],
      "metadata": {
        "id": "lvYcsr3Fi8kS",
        "outputId": "0710d249-66b5-4c8c-a515-8a4e150a1f53",
        "colab": {
          "base_uri": "https://localhost:8080/"
        }
      },
      "execution_count": 28,
      "outputs": [
        {
          "output_type": "stream",
          "name": "stderr",
          "text": [
            "/usr/local/lib/python3.7/dist-packages/tensorflow_model_optimization/python/core/sparsity/keras/pruning_wrapper.py:238: UserWarning: `layer.add_variable` is deprecated and will be removed in a future version. Please use `layer.add_weight` method instead.\n",
            "  trainable=False)\n"
          ]
        },
        {
          "output_type": "stream",
          "name": "stdout",
          "text": [
            "Model: \"sequential\"\n",
            "_________________________________________________________________\n",
            " Layer (type)                Output Shape              Param #   \n",
            "=================================================================\n",
            " prune_low_magnitude_reshape  (None, 28, 28, 1)        1         \n",
            "  (PruneLowMagnitude)                                            \n",
            "                                                                 \n",
            " prune_low_magnitude_conv2d   (None, 26, 26, 12)       230       \n",
            " (PruneLowMagnitude)                                             \n",
            "                                                                 \n",
            " prune_low_magnitude_max_poo  (None, 13, 13, 12)       1         \n",
            " ling2d (PruneLowMagnitude)                                      \n",
            "                                                                 \n",
            " prune_low_magnitude_flatten  (None, 2028)             1         \n",
            "  (PruneLowMagnitude)                                            \n",
            "                                                                 \n",
            " prune_low_magnitude_dense (  (None, 10)               40572     \n",
            " PruneLowMagnitude)                                              \n",
            "                                                                 \n",
            "=================================================================\n",
            "Total params: 40,805\n",
            "Trainable params: 20,410\n",
            "Non-trainable params: 20,395\n",
            "_________________________________________________________________\n"
          ]
        },
        {
          "output_type": "stream",
          "name": "stderr",
          "text": [
            "/usr/local/lib/python3.7/dist-packages/tensorflow_model_optimization/python/core/sparsity/keras/pruning_wrapper.py:218: UserWarning: `layer.add_variable` is deprecated and will be removed in a future version. Please use `layer.add_weight` method instead.\n",
            "  aggregation=tf.VariableAggregation.MEAN)\n",
            "/usr/local/lib/python3.7/dist-packages/tensorflow_model_optimization/python/core/sparsity/keras/pruning_wrapper.py:225: UserWarning: `layer.add_variable` is deprecated and will be removed in a future version. Please use `layer.add_weight` method instead.\n",
            "  aggregation=tf.VariableAggregation.MEAN)\n"
          ]
        }
      ]
    },
    {
      "cell_type": "markdown",
      "source": [
        "You can also peek at the weights of one of the layers in your model. After pruning, you will notice that many of these will be zeroed out."
      ],
      "metadata": {
        "id": "guytDLJStA0v"
      }
    },
    {
      "cell_type": "code",
      "source": [
        "# Preview model weights\n",
        "model_for_pruning.weights[1]"
      ],
      "metadata": {
        "id": "-B7DZHm4tBPP",
        "outputId": "686952eb-3fea-461e-ed16-b059200a4df7",
        "colab": {
          "base_uri": "https://localhost:8080/"
        }
      },
      "execution_count": 29,
      "outputs": [
        {
          "output_type": "execute_result",
          "data": {
            "text/plain": [
              "<tf.Variable 'conv2d/kernel:0' shape=(3, 3, 1, 12) dtype=float32, numpy=\n",
              "array([[[[ 0.1986249 ,  0.5171511 ,  0.07814071, -0.09795007,\n",
              "          -0.7783519 ,  0.03007949,  0.2347084 , -0.33454427,\n",
              "          -0.09847184,  0.05502477, -0.14169388,  0.15898901]],\n",
              "\n",
              "        [[ 0.13293983,  0.358834  , -0.08405852,  0.13033505,\n",
              "           0.03609186, -0.02040963,  0.24838498, -0.49160498,\n",
              "           0.21505095,  0.26152375,  0.19167513,  0.10476874]],\n",
              "\n",
              "        [[ 0.24839476,  0.4174566 ,  0.18579613,  0.22545753,\n",
              "           0.27669865, -0.13187194, -0.7303898 , -0.47970054,\n",
              "           0.20660275, -0.04999729,  0.61266273,  0.10838795]]],\n",
              "\n",
              "\n",
              "       [[[-0.00151024, -0.03016678,  0.04063907, -0.26507196,\n",
              "          -0.77795774,  0.2865505 ,  0.3773999 ,  0.33174872,\n",
              "           0.2569879 ,  0.10593442, -0.4590255 , -0.04237682]],\n",
              "\n",
              "        [[-0.04884246,  0.11895042,  0.29393578,  0.34888878,\n",
              "           0.33150172,  0.33485606,  0.3225014 , -0.0224974 ,\n",
              "           0.1098081 , -0.1267422 , -1.0525852 ,  0.27996072]],\n",
              "\n",
              "        [[-0.00978573, -0.20935327, -0.01495881,  0.03037421,\n",
              "           0.5001265 ,  0.28480658, -0.66420317,  0.22263642,\n",
              "          -0.21116088,  0.02539622, -0.5501697 ,  0.05854103]]],\n",
              "\n",
              "\n",
              "       [[[ 0.02476916, -0.27114427,  0.21264778, -0.06544419,\n",
              "          -0.42025444,  0.10553853,  0.4221153 ,  0.2635986 ,\n",
              "           0.18853588,  0.2528568 ,  0.61131406,  0.08527444]],\n",
              "\n",
              "        [[ 0.10783304, -0.6578134 , -0.0285412 , -0.06739163,\n",
              "           0.0490955 ,  0.03650921,  0.05866357,  0.39787123,\n",
              "           0.2526529 ,  0.1350564 ,  0.36265448, -0.12501986]],\n",
              "\n",
              "        [[ 0.00808052, -0.6373285 ,  0.13476099,  0.1548631 ,\n",
              "           0.38332564,  0.23078837, -0.36644942,  0.24418783,\n",
              "          -0.23216599,  0.22199064, -0.18346423,  0.33336055]]]],\n",
              "      dtype=float32)>"
            ]
          },
          "metadata": {},
          "execution_count": 29
        }
      ]
    },
    {
      "cell_type": "markdown",
      "source": [
        "With that, you can now start re-training the model. Take note that the [UpdatePruningStep()](https://www.tensorflow.org/model_optimization/api_docs/python/tfmot/sparsity/keras/UpdatePruningStep) callback is required."
      ],
      "metadata": {
        "id": "FJ9mwLyItOke"
      }
    },
    {
      "cell_type": "code",
      "source": [
        "# Callback to update pruning wrappers at each step\n",
        "callbacks = [tfmot.sparsity.keras.UpdatePruningStep(),]\n",
        "\n",
        "# Train and prune the model\n",
        "model_for_pruning.fit(train_images, train_labels, epochs=epochs, validation_split=validation_split, callbacks=callbacks)"
      ],
      "metadata": {
        "id": "sYdI9-PVtNq7",
        "outputId": "88128956-2c90-43b2-c42b-09adcc931002",
        "colab": {
          "base_uri": "https://localhost:8080/"
        }
      },
      "execution_count": 30,
      "outputs": [
        {
          "output_type": "stream",
          "name": "stdout",
          "text": [
            "Epoch 1/2\n",
            "1688/1688 [==============================] - 23s 12ms/step - loss: 0.1514 - accuracy: 0.9600 - val_loss: 0.1000 - val_accuracy: 0.9728\n",
            "Epoch 2/2\n",
            "1688/1688 [==============================] - 20s 12ms/step - loss: 0.1134 - accuracy: 0.9671 - val_loss: 0.0868 - val_accuracy: 0.9757\n"
          ]
        },
        {
          "output_type": "execute_result",
          "data": {
            "text/plain": [
              "<keras.callbacks.History at 0x7f65b4528090>"
            ]
          },
          "metadata": {},
          "execution_count": 30
        }
      ]
    },
    {
      "cell_type": "markdown",
      "source": [
        "Now see how the weights in the same layer looks like after pruning."
      ],
      "metadata": {
        "id": "q1_pzUj9tq3m"
      }
    },
    {
      "cell_type": "code",
      "source": [
        "# Preview model weights\n",
        "model_for_pruning.weights[1]"
      ],
      "metadata": {
        "id": "fDTThPpZtrP0",
        "outputId": "4a79f365-a61e-4c3f-a5f0-412bc9b4c544",
        "colab": {
          "base_uri": "https://localhost:8080/"
        }
      },
      "execution_count": 31,
      "outputs": [
        {
          "output_type": "execute_result",
          "data": {
            "text/plain": [
              "<tf.Variable 'conv2d/kernel:0' shape=(3, 3, 1, 12) dtype=float32, numpy=\n",
              "array([[[[ 0.        ,  0.7783856 , -0.        ,  0.        ,\n",
              "          -1.0030344 , -0.        , -0.        , -0.        ,\n",
              "           0.        ,  0.        , -0.        ,  0.        ]],\n",
              "\n",
              "        [[ 0.        ,  0.        , -0.        ,  0.        ,\n",
              "          -0.        ,  0.        , -0.        , -0.        ,\n",
              "           0.        ,  0.        ,  0.        ,  0.        ]],\n",
              "\n",
              "        [[ 0.        ,  0.9449951 , -0.        , -0.        ,\n",
              "          -0.        ,  0.        , -0.7502193 , -0.        ,\n",
              "           0.        ,  0.        ,  1.128205  ,  0.        ]]],\n",
              "\n",
              "\n",
              "       [[[ 0.        ,  0.        ,  0.        , -0.        ,\n",
              "          -1.3725884 ,  0.        ,  0.8943983 ,  0.        ,\n",
              "           0.        ,  0.        , -0.9016115 , -0.        ]],\n",
              "\n",
              "        [[ 0.        ,  0.        ,  0.        ,  0.7661677 ,\n",
              "          -0.        ,  0.8433176 , -0.        ,  0.        ,\n",
              "           0.        ,  0.        , -1.339049  , -0.        ]],\n",
              "\n",
              "        [[ 0.        ,  0.        ,  0.        , -0.        ,\n",
              "           0.97798693,  0.7870657 , -1.0490742 ,  0.        ,\n",
              "           0.        ,  0.        , -0.91517866,  0.        ]]],\n",
              "\n",
              "\n",
              "       [[[-0.        ,  0.        ,  0.        , -0.        ,\n",
              "          -0.        , -0.        ,  0.7069067 ,  0.        ,\n",
              "           0.        ,  0.        ,  1.1200918 , -0.        ]],\n",
              "\n",
              "        [[-0.        , -0.92755264, -0.        , -0.        ,\n",
              "          -0.        ,  0.        , -0.        ,  0.897821  ,\n",
              "           0.        ,  0.        ,  0.        , -0.        ]],\n",
              "\n",
              "        [[-0.        , -1.0185676 ,  0.        , -0.        ,\n",
              "           0.5921312 ,  0.        , -0.        ,  0.        ,\n",
              "           0.        ,  0.        ,  0.        ,  0.80460376]]]],\n",
              "      dtype=float32)>"
            ]
          },
          "metadata": {},
          "execution_count": 31
        }
      ]
    },
    {
      "cell_type": "markdown",
      "source": [
        "After pruning, you can remove the wrapper layers to have the same layers and params as the baseline model. You can do that with the [strip_pruning()](https://www.tensorflow.org/model_optimization/api_docs/python/tfmot/sparsity/keras/strip_pruning) method as shown below. You will do this so you can save the model and also export to TF Lite format just like in the previous sections."
      ],
      "metadata": {
        "id": "EOqV1zBmtt3H"
      }
    },
    {
      "cell_type": "code",
      "source": [
        "# Remove pruning wrappers\n",
        "model_for_export = tfmot.sparsity.keras.strip_pruning(model_for_pruning)\n",
        "model_for_export.summary()"
      ],
      "metadata": {
        "id": "c-opi12ztvls",
        "outputId": "e6ce29ad-d730-45c2-d6d3-464d72b4f6f7",
        "colab": {
          "base_uri": "https://localhost:8080/"
        }
      },
      "execution_count": 32,
      "outputs": [
        {
          "output_type": "stream",
          "name": "stdout",
          "text": [
            "Model: \"sequential\"\n",
            "_________________________________________________________________\n",
            " Layer (type)                Output Shape              Param #   \n",
            "=================================================================\n",
            " reshape (Reshape)           (None, 28, 28, 1)         0         \n",
            "                                                                 \n",
            " conv2d (Conv2D)             (None, 26, 26, 12)        120       \n",
            "                                                                 \n",
            " max_pooling2d (MaxPooling2D  (None, 13, 13, 12)       0         \n",
            " )                                                               \n",
            "                                                                 \n",
            " flatten (Flatten)           (None, 2028)              0         \n",
            "                                                                 \n",
            " dense (Dense)               (None, 10)                20290     \n",
            "                                                                 \n",
            "=================================================================\n",
            "Total params: 20,410\n",
            "Trainable params: 20,410\n",
            "Non-trainable params: 0\n",
            "_________________________________________________________________\n"
          ]
        }
      ]
    },
    {
      "cell_type": "markdown",
      "source": [
        "You will see the same model weights but the index is different because the wrappers were removed."
      ],
      "metadata": {
        "id": "pU94GOAZuBeP"
      }
    },
    {
      "cell_type": "code",
      "source": [
        "# Preview model weights (index 1 earlier is now 0 because pruning wrappers were removed)\n",
        "model_for_pruning.weights[1]"
      ],
      "metadata": {
        "id": "a0d9ZltKuGGo",
        "outputId": "eb0e1921-1d34-47c3-a475-093734764d94",
        "colab": {
          "base_uri": "https://localhost:8080/"
        }
      },
      "execution_count": 33,
      "outputs": [
        {
          "output_type": "execute_result",
          "data": {
            "text/plain": [
              "<tf.Variable 'conv2d/kernel:0' shape=(3, 3, 1, 12) dtype=float32, numpy=\n",
              "array([[[[ 0.        ,  0.7783856 , -0.        ,  0.        ,\n",
              "          -1.0030344 , -0.        , -0.        , -0.        ,\n",
              "           0.        ,  0.        , -0.        ,  0.        ]],\n",
              "\n",
              "        [[ 0.        ,  0.        , -0.        ,  0.        ,\n",
              "          -0.        ,  0.        , -0.        , -0.        ,\n",
              "           0.        ,  0.        ,  0.        ,  0.        ]],\n",
              "\n",
              "        [[ 0.        ,  0.9449951 , -0.        , -0.        ,\n",
              "          -0.        ,  0.        , -0.7502193 , -0.        ,\n",
              "           0.        ,  0.        ,  1.128205  ,  0.        ]]],\n",
              "\n",
              "\n",
              "       [[[ 0.        ,  0.        ,  0.        , -0.        ,\n",
              "          -1.3725884 ,  0.        ,  0.8943983 ,  0.        ,\n",
              "           0.        ,  0.        , -0.9016115 , -0.        ]],\n",
              "\n",
              "        [[ 0.        ,  0.        ,  0.        ,  0.7661677 ,\n",
              "          -0.        ,  0.8433176 , -0.        ,  0.        ,\n",
              "           0.        ,  0.        , -1.339049  , -0.        ]],\n",
              "\n",
              "        [[ 0.        ,  0.        ,  0.        , -0.        ,\n",
              "           0.97798693,  0.7870657 , -1.0490742 ,  0.        ,\n",
              "           0.        ,  0.        , -0.91517866,  0.        ]]],\n",
              "\n",
              "\n",
              "       [[[-0.        ,  0.        ,  0.        , -0.        ,\n",
              "          -0.        , -0.        ,  0.7069067 ,  0.        ,\n",
              "           0.        ,  0.        ,  1.1200918 , -0.        ]],\n",
              "\n",
              "        [[-0.        , -0.92755264, -0.        , -0.        ,\n",
              "          -0.        ,  0.        , -0.        ,  0.897821  ,\n",
              "           0.        ,  0.        ,  0.        , -0.        ]],\n",
              "\n",
              "        [[-0.        , -1.0185676 ,  0.        , -0.        ,\n",
              "           0.5921312 ,  0.        , -0.        ,  0.        ,\n",
              "           0.        ,  0.        ,  0.        ,  0.80460376]]]],\n",
              "      dtype=float32)>"
            ]
          },
          "metadata": {},
          "execution_count": 33
        }
      ]
    },
    {
      "cell_type": "markdown",
      "source": [
        "You will notice below that the pruned model will have the same file size as the baseline_model when saved as H5. This is to be expected. The improvement will be noticeable when you compress the model as will be shown in the cell after this."
      ],
      "metadata": {
        "id": "4bYVBp9auSJM"
      }
    },
    {
      "cell_type": "code",
      "source": [
        "# Save Keras model\n",
        "model_for_export.save(FILE_PRUNED_MODEL_H5, include_optimizer=False)\n",
        "\n",
        "# Get uncompressed model size of baseline and pruned models\n",
        "MODEL_SIZE = {}\n",
        "MODEL_SIZE['baseline Keras model'] = os.path.getsize(FILE_NON_QUANTIZED_H5)\n",
        "MODEL_SIZE['pruned non-quantized h5'] = os.path.getsize(FILE_PRUNED_MODEL_H5)\n",
        "\n",
        "print_metric(MODEL_SIZE, 'model_size in bytes')"
      ],
      "metadata": {
        "id": "OVUremvkuJqb",
        "outputId": "bc55780c-e4d1-4cdc-e575-8c7ed9a4b599",
        "colab": {
          "base_uri": "https://localhost:8080/"
        }
      },
      "execution_count": 34,
      "outputs": [
        {
          "output_type": "stream",
          "name": "stdout",
          "text": [
            "WARNING:tensorflow:Compiled the loaded model, but the compiled metrics have yet to be built. `model.compile_metrics` will be empty until you train or evaluate the model.\n"
          ]
        },
        {
          "output_type": "stream",
          "name": "stderr",
          "text": [
            "WARNING:tensorflow:Compiled the loaded model, but the compiled metrics have yet to be built. `model.compile_metrics` will be empty until you train or evaluate the model.\n"
          ]
        },
        {
          "output_type": "stream",
          "name": "stdout",
          "text": [
            "model_size in bytes for baseline Keras model: 99144\n",
            "model_size in bytes for pruned non-quantized h5: 99144\n"
          ]
        }
      ]
    },
    {
      "cell_type": "markdown",
      "source": [
        "You will use the `get_gzipped_model_size()` helper function in the `Utilities` to compress the models and get its resulting file size. You will notice that the pruned model is about 3 times smaller. This is because of the sparse weights generated by the pruning process. The zeros can be compressed much more efficiently than the low magnitude weights before pruning."
      ],
      "metadata": {
        "id": "X6gV0-vnufKv"
      }
    },
    {
      "cell_type": "code",
      "source": [
        "# Get compressed size of baseline and pruned models\n",
        "MODEL_SIZE = {}\n",
        "MODEL_SIZE['baseline Keras model'] = get_gzipped_model_size(FILE_NON_QUANTIZED_H5)\n",
        "MODEL_SIZE['pruned non-quantized model'] = get_gzipped_model_size(FILE_PRUNED_MODEL_H5)\n",
        "\n",
        "print_metric(MODEL_SIZE, \"gzipped model size in bytes\")"
      ],
      "metadata": {
        "id": "ew78KFTTufkc",
        "outputId": "6e1c3b99-4a8d-46e0-937c-3ca31000db22",
        "colab": {
          "base_uri": "https://localhost:8080/"
        }
      },
      "execution_count": 35,
      "outputs": [
        {
          "output_type": "stream",
          "name": "stdout",
          "text": [
            "gzipped model size in bytes for baseline Keras model: 78136\n",
            "gzipped model size in bytes for pruned non-quantized model: 25868\n"
          ]
        }
      ]
    },
    {
      "cell_type": "markdown",
      "source": [
        "You can make the model even more lightweight by quantizing the pruned model. This achieves around 10X reduction in compressed model size as compared to the baseline."
      ],
      "metadata": {
        "id": "c0TmGwfMurr8"
      }
    },
    {
      "cell_type": "code",
      "source": [
        "# Convert and quantize the pruned model.\n",
        "pruned_quantized_tflite = convert_tflite(model_for_export, FILE_PRUNED_QUANTIZED_TFLITE, quantize=True)\n",
        "\n",
        "# Compress and get the model size\n",
        "MODEL_SIZE['pruned and quantized tflite'] = get_gzipped_model_size(FILE_PRUNED_QUANTIZED_TFLITE)\n",
        "print_metric(MODEL_SIZE, \"gzipped model size in bytes\")"
      ],
      "metadata": {
        "id": "0p88qCbTusKZ",
        "outputId": "27e5b1c7-540c-4bf9-837b-d3658b0eddbb",
        "colab": {
          "base_uri": "https://localhost:8080/"
        }
      },
      "execution_count": 37,
      "outputs": [
        {
          "output_type": "stream",
          "name": "stdout",
          "text": [
            "INFO:tensorflow:Assets written to: /tmp/tmpli4nnjo1/assets\n"
          ]
        },
        {
          "output_type": "stream",
          "name": "stderr",
          "text": [
            "INFO:tensorflow:Assets written to: /tmp/tmpli4nnjo1/assets\n",
            "WARNING:absl:Buffer deduplication procedure will be skipped when flatbuffer library is not properly loaded\n"
          ]
        },
        {
          "output_type": "stream",
          "name": "stdout",
          "text": [
            "gzipped model size in bytes for baseline Keras model: 78136\n",
            "gzipped model size in bytes for pruned non-quantized model: 25868\n",
            "gzipped model size in bytes for pruned and quantized tflite: 8286\n"
          ]
        }
      ]
    },
    {
      "cell_type": "markdown",
      "source": [
        "As expected, the TF Lite model's accuracy will also be close to the Keras model."
      ],
      "metadata": {
        "id": "YsCYf2iBvCbl"
      }
    },
    {
      "cell_type": "code",
      "source": [
        "# Get accuracy of pruned Keras and TF Lite models\n",
        "ACCURACY = {}\n",
        "\n",
        "_, ACCURACY['pruned non-quantized model'] = model_for_pruning.evaluate(test_images, test_labels)\n",
        "ACCURACY['pruned and quantized tflite'] = evaluate_tflite_model(FILE_PRUNED_QUANTIZED_TFLITE, test_images, test_labels)\n",
        "\n",
        "print_metric(ACCURACY, 'accuracy')"
      ],
      "metadata": {
        "id": "5pg4sXgsvC0M",
        "outputId": "edf064bb-92f3-44ae-acf0-6296a576c487",
        "colab": {
          "base_uri": "https://localhost:8080/"
        }
      },
      "execution_count": 38,
      "outputs": [
        {
          "output_type": "stream",
          "name": "stdout",
          "text": [
            "313/313 [==============================] - 2s 6ms/step - loss: 0.1007 - accuracy: 0.9705\n",
            "accuracy for pruned non-quantized model: 0.9704999923706055\n",
            "accuracy for pruned and quantized tflite: 0.9707\n"
          ]
        }
      ]
    },
    {
      "cell_type": "markdown",
      "source": [
        "## Wrap Up"
      ],
      "metadata": {
        "id": "GHxfTXUEvKwB"
      }
    },
    {
      "cell_type": "markdown",
      "source": [
        "In this notebook, you practiced several techniques in optimizing your models for mobile and embedded applications. You used quantization to reduce floating point representations into integer, then used pruning to make the weights sparse for efficient model compression. These make your models lightweight for efficient transport and storage without sacrificing model accuracy. Try this in your own models and see what performance you get. For more information, here are a few other resources:\n",
        "\n",
        "* [Post Training Quantization Guide](https://www.tensorflow.org/lite/performance/post_training_quantization)\n",
        "* [Quantization Aware Training Comprehensive Guide](https://www.tensorflow.org/model_optimization/guide/quantization/training_comprehensive_guide)\n",
        "* [Pruning Comprehensive Guide](https://www.tensorflow.org/model_optimization/guide/pruning/comprehensive_guide)\n",
        "\n",
        "**Congratulations and enjoy the rest of the course!**"
      ],
      "metadata": {
        "id": "8G3Z_JWlvLKC"
      }
    }
  ]
}