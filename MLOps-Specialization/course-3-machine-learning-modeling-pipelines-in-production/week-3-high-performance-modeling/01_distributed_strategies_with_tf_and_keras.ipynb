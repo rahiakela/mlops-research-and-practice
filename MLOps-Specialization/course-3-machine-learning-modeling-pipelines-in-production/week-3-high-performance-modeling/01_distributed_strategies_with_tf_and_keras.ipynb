{
  "nbformat": 4,
  "nbformat_minor": 0,
  "metadata": {
    "colab": {
      "name": "01-distributed-strategies-with-tf-and-keras.ipynb",
      "provenance": [],
      "toc_visible": true,
      "authorship_tag": "ABX9TyOQSiz5na0QQnQhilCXYrI4",
      "include_colab_link": true
    },
    "kernelspec": {
      "name": "python3",
      "display_name": "Python 3"
    },
    "language_info": {
      "name": "python"
    }
  },
  "cells": [
    {
      "cell_type": "markdown",
      "metadata": {
        "id": "view-in-github",
        "colab_type": "text"
      },
      "source": [
        "<a href=\"https://colab.research.google.com/github/rahiakela/mlops-research-and-practice/blob/main/MLOps-Specialization/course-3-machine-learning-modeling-pipelines-in-production/week-3-high-performance-modeling/01_distributed_strategies_with_tf_and_keras.ipynb\" target=\"_parent\"><img src=\"https://colab.research.google.com/assets/colab-badge.svg\" alt=\"Open In Colab\"/></a>"
      ]
    },
    {
      "cell_type": "markdown",
      "source": [
        "##Distributed Strategies with TF and Keras"
      ],
      "metadata": {
        "id": "TSYQCj47P3C3"
      }
    }
  ]
}