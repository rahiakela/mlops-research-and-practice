{
  "nbformat": 4,
  "nbformat_minor": 0,
  "metadata": {
    "colab": {
      "provenance": [],
      "toc_visible": true,
      "authorship_tag": "ABX9TyM2k7aniiz5KE0anqcy5de3",
      "include_colab_link": true
    },
    "kernelspec": {
      "name": "python3",
      "display_name": "Python 3"
    },
    "language_info": {
      "name": "python"
    }
  },
  "cells": [
    {
      "cell_type": "markdown",
      "metadata": {
        "id": "view-in-github",
        "colab_type": "text"
      },
      "source": [
        "<a href=\"https://colab.research.google.com/github/rahiakela/mlops-research-and-practice/blob/main/machine-learning-engineering-with-python/03-model-factory/01_feature_engineering.ipynb\" target=\"_parent\"><img src=\"https://colab.research.google.com/assets/colab-badge.svg\" alt=\"Open In Colab\"/></a>"
      ]
    },
    {
      "cell_type": "markdown",
      "source": [
        "##Setup"
      ],
      "metadata": {
        "id": "Y2qcIMlYKiRU"
      }
    },
    {
      "cell_type": "code",
      "source": [
        "import pandas as pd\n",
        "import numpy as np\n",
        "\n",
        "from sklearn.model_selection import train_test_split\n",
        "from sklearn.preprocessing import StandardScaler, Normalizer\n",
        "from sklearn.linear_model import RidgeClassifier\n",
        "from sklearn import metrics\n",
        "import matplotlib.pyplot as plt\n",
        "from sklearn.datasets import load_wine\n",
        "from sklearn.pipeline import make_pipeline"
      ],
      "metadata": {
        "id": "wHffzL5gKjxz"
      },
      "execution_count": 1,
      "outputs": []
    },
    {
      "cell_type": "markdown",
      "source": [
        "##Dataset"
      ],
      "metadata": {
        "id": "lh7ShzZXKn-R"
      }
    },
    {
      "cell_type": "code",
      "source": [
        "X, y = load_wine(return_X_y=True)\n",
        "\n",
        "# Make a train/test split using 30% test size\n",
        "X_train, X_test, y_train, y_test = train_test_split(X, y,\n",
        "                                                    test_size=0.30,\n",
        "                                                    random_state=42)"
      ],
      "metadata": {
        "id": "sDkl3bVXKpM7"
      },
      "execution_count": 2,
      "outputs": []
    },
    {
      "cell_type": "markdown",
      "source": [
        "##Modeling"
      ],
      "metadata": {
        "id": "fZQ7iJnQKxVt"
      }
    },
    {
      "cell_type": "code",
      "source": [
        "# Fit ridge classifier to the data\n",
        "no_scale_clf = make_pipeline(RidgeClassifier(tol=1e-2, solver=\"sag\"))\n",
        "no_scale_clf.fit(X_train, y_train)\n",
        "y_pred_no_scale = no_scale_clf.predict(X_test)"
      ],
      "metadata": {
        "id": "DbAuzraeK0eT"
      },
      "execution_count": 3,
      "outputs": []
    },
    {
      "cell_type": "code",
      "source": [
        "# Fit a ridge classifier after performing standard scaling\n",
        "std_scale_clf = make_pipeline(StandardScaler(), RidgeClassifier(tol=1e-2, solver=\"sag\"))\n",
        "std_scale_clf.fit(X_train, y_train)\n",
        "y_pred_std_scale = std_scale_clf.predict(X_test)"
      ],
      "metadata": {
        "id": "jxsnfmj1K07L"
      },
      "execution_count": 4,
      "outputs": []
    },
    {
      "cell_type": "markdown",
      "source": [
        "##Prediction"
      ],
      "metadata": {
        "id": "LWyrCDpHK7Nj"
      }
    },
    {
      "cell_type": "code",
      "source": [
        "# Prediction accuracies without scaling\n",
        "print('\\nAccuracy [no scaling]')\n",
        "print('{:.2%}\\n'.format(metrics.accuracy_score(y_test, y_pred_no_scale)))\n",
        "\n",
        "print('\\nClassification Report [no scaling]')\n",
        "print(metrics.classification_report(y_test, y_pred_no_scale))\n",
        "\n",
        "# Prediction accuracies with scaling\n",
        "print(\"--\"*30)\n",
        "print('\\nAccuracy [scaling]')\n",
        "print('{:.2%}\\n'.format(metrics.accuracy_score(y_test, y_pred_std_scale)))\n",
        "\n",
        "print('\\nClassification Report [scaling]')\n",
        "print(metrics.classification_report(y_test, y_pred_std_scale))"
      ],
      "metadata": {
        "colab": {
          "base_uri": "https://localhost:8080/"
        },
        "id": "KJKA58OtK3fA",
        "outputId": "a195b8ad-52bd-4d0e-aa17-b91b1a1087ce"
      },
      "execution_count": 10,
      "outputs": [
        {
          "output_type": "stream",
          "name": "stdout",
          "text": [
            "\n",
            "Accuracy [no scaling]\n",
            "75.93%\n",
            "\n",
            "\n",
            "Classification Report [no scaling]\n",
            "              precision    recall  f1-score   support\n",
            "\n",
            "           0       0.90      1.00      0.95        19\n",
            "           1       0.66      1.00      0.79        21\n",
            "           2       1.00      0.07      0.13        14\n",
            "\n",
            "    accuracy                           0.76        54\n",
            "   macro avg       0.85      0.69      0.63        54\n",
            "weighted avg       0.83      0.76      0.68        54\n",
            "\n",
            "------------------------------------------------------------\n",
            "\n",
            "Accuracy [scaling]\n",
            "98.15%\n",
            "\n",
            "\n",
            "Classification Report [scaling]\n",
            "              precision    recall  f1-score   support\n",
            "\n",
            "           0       0.95      1.00      0.97        19\n",
            "           1       1.00      0.95      0.98        21\n",
            "           2       1.00      1.00      1.00        14\n",
            "\n",
            "    accuracy                           0.98        54\n",
            "   macro avg       0.98      0.98      0.98        54\n",
            "weighted avg       0.98      0.98      0.98        54\n",
            "\n"
          ]
        }
      ]
    }
  ]
}