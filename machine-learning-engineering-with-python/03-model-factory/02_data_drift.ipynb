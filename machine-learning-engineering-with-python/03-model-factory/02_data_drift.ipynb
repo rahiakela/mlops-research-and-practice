{
  "nbformat": 4,
  "nbformat_minor": 0,
  "metadata": {
    "colab": {
      "provenance": [],
      "toc_visible": true,
      "authorship_tag": "ABX9TyOmqvMrepFHtIzcUeAAsl/y",
      "include_colab_link": true
    },
    "kernelspec": {
      "name": "python3",
      "display_name": "Python 3"
    },
    "language_info": {
      "name": "python"
    }
  },
  "cells": [
    {
      "cell_type": "markdown",
      "metadata": {
        "id": "view-in-github",
        "colab_type": "text"
      },
      "source": [
        "<a href=\"https://colab.research.google.com/github/rahiakela/mlops-research-and-practice/blob/main/machine-learning-engineering-with-python/03-model-factory/02_data_drift.ipynb\" target=\"_parent\"><img src=\"https://colab.research.google.com/assets/colab-badge.svg\" alt=\"Open In Colab\"/></a>"
      ]
    },
    {
      "cell_type": "markdown",
      "source": [
        "##Setup"
      ],
      "metadata": {
        "id": "ofeWQZGFAwzN"
      }
    },
    {
      "cell_type": "code",
      "source": [
        "!pip install alibi\n",
        "!pip install alibi-detect"
      ],
      "metadata": {
        "id": "fJy7pNSsAy0i"
      },
      "execution_count": null,
      "outputs": []
    },
    {
      "cell_type": "code",
      "source": [
        "from sklearn.model_selection import train_test_split\n",
        "from sklearn.preprocessing import StandardScaler\n",
        "from sklearn.linear_model import RidgeClassifier\n",
        "from sklearn import metrics\n",
        "from sklearn.pipeline import make_pipeline\n",
        "\n",
        "from sklearn.datasets import load_wine\n",
        "from sklearn.model_selection import train_test_split\n",
        "\n",
        "import alibi\n",
        "from alibi_detect.cd import ChiSquareDrift, TabularDrift\n",
        "from alibi_detect.utils.saving import save_detector, load_detector"
      ],
      "metadata": {
        "id": "ScHi5F-fA3M1"
      },
      "execution_count": 2,
      "outputs": []
    },
    {
      "cell_type": "markdown",
      "source": [
        "##Dataset"
      ],
      "metadata": {
        "id": "E49C9LajA_S7"
      }
    },
    {
      "cell_type": "code",
      "source": [
        "# Grab the data\n",
        "wine_data = load_wine()\n",
        "feature_names = wine_data.feature_names\n",
        "X, y = wine_data.data, wine_data.target\n",
        "\n",
        "# Make a 50/50 reference/test split\n",
        "X_ref, X_test, y_ref, y_test = train_test_split(X, y,\n",
        "                                                test_size=0.50,\n",
        "                                                random_state=42)"
      ],
      "metadata": {
        "id": "ttA2xu4iBASk"
      },
      "execution_count": 3,
      "outputs": []
    },
    {
      "cell_type": "markdown",
      "source": [
        "##Drift Detector"
      ],
      "metadata": {
        "id": "sgR7JdWvBEcC"
      }
    },
    {
      "cell_type": "code",
      "source": [
        "TabularDrift?"
      ],
      "metadata": {
        "id": "eIqyJO1WBmq2"
      },
      "execution_count": 6,
      "outputs": []
    },
    {
      "cell_type": "code",
      "source": [
        "# Initialise the detector\n",
        "cd = TabularDrift(p_val=0.05, x_ref=X_ref)"
      ],
      "metadata": {
        "colab": {
          "base_uri": "https://localhost:8080/"
        },
        "id": "CfQSPBjpBIN8",
        "outputId": "7c7047af-810c-4a6a-9c91-42e9acb327c1"
      },
      "execution_count": 7,
      "outputs": [
        {
          "output_type": "stream",
          "name": "stderr",
          "text": [
            "/usr/local/lib/python3.10/dist-packages/alibi_detect/cd/tabular.py:113: UserWarning: No `categories_per_feature` dict provided so all features are assumed to be numerical. `KSDrift` will be applied to all features.\n",
            "  warnings.warn('No `categories_per_feature` dict provided so all features are assumed to be numerical. '\n"
          ]
        }
      ]
    },
    {
      "cell_type": "code",
      "source": [
        "# Check for drift\n",
        "pred = cd.predict(X_test)\n",
        "\n",
        "labels = [\"No\", \"Yes\"]\n",
        "print(f\"Drift: {labels[pred['data']['is_drift']]}\")"
      ],
      "metadata": {
        "colab": {
          "base_uri": "https://localhost:8080/"
        },
        "id": "2Q0yVF10BagP",
        "outputId": "138c202a-c30d-4acd-961a-6f495bab6330"
      },
      "execution_count": 8,
      "outputs": [
        {
          "output_type": "stream",
          "name": "stdout",
          "text": [
            "Drift: No\n"
          ]
        }
      ]
    },
    {
      "cell_type": "code",
      "source": [
        "# Check for drift - X_test_cal_error is simulated calibration error test set\n",
        "X_test_cal_error = 1.1 * X_test\n",
        "pred = cd.predict(X_test_cal_error)\n",
        "\n",
        "labels = [\"No\", \"Yes\"]\n",
        "print(f\"Drift: {labels[pred['data']['is_drift']]}\")"
      ],
      "metadata": {
        "colab": {
          "base_uri": "https://localhost:8080/"
        },
        "id": "aCSxdWUKCHo4",
        "outputId": "dba5a45f-cd86-4ea9-cfd0-3f0bccefdc8f"
      },
      "execution_count": 9,
      "outputs": [
        {
          "output_type": "stream",
          "name": "stdout",
          "text": [
            "Drift: Yes\n"
          ]
        }
      ]
    },
    {
      "cell_type": "markdown",
      "source": [
        "##Feature drift"
      ],
      "metadata": {
        "id": "MhF7zw16DG98"
      }
    },
    {
      "cell_type": "code",
      "source": [
        "# for drift in the features, we will use the initial label as our baseline dataset\n",
        "cd = TabularDrift(x_ref=y_ref, p_val=.05)"
      ],
      "metadata": {
        "colab": {
          "base_uri": "https://localhost:8080/"
        },
        "id": "gV9X6gxBDKAl",
        "outputId": "6394f0c9-8eb0-4e60-edbd-55ebe64d0465"
      },
      "execution_count": 10,
      "outputs": [
        {
          "output_type": "stream",
          "name": "stderr",
          "text": [
            "/usr/local/lib/python3.10/dist-packages/alibi_detect/cd/tabular.py:113: UserWarning: No `categories_per_feature` dict provided so all features are assumed to be numerical. `KSDrift` will be applied to all features.\n",
            "  warnings.warn('No `categories_per_feature` dict provided so all features are assumed to be numerical. '\n"
          ]
        }
      ]
    },
    {
      "cell_type": "code",
      "source": [
        "# check for drift in the test labels against the reference dataset\n",
        "pred = cd.predict(y_test)\n",
        "\n",
        "labels = [\"No\", \"Yes\"]\n",
        "print(f\"Drift: {labels[pred['data']['is_drift']]}\")"
      ],
      "metadata": {
        "colab": {
          "base_uri": "https://localhost:8080/"
        },
        "id": "bwtYySQLEh9I",
        "outputId": "634c1458-2df3-459b-c510-f17d1e02a3a7"
      },
      "execution_count": 11,
      "outputs": [
        {
          "output_type": "stream",
          "name": "stdout",
          "text": [
            "Drift: No\n"
          ]
        }
      ]
    },
    {
      "cell_type": "code",
      "source": [
        "# we can simulate some drift in the data, and then check that this is indeed detected\n",
        "y_test_cal_error = 1.1 * y_test\n",
        "pred = cd.predict(y_test_cal_error)\n",
        "\n",
        "labels = [\"No\", \"Yes\"]\n",
        "print(f\"Drift: {labels[pred['data']['is_drift']]}\")"
      ],
      "metadata": {
        "colab": {
          "base_uri": "https://localhost:8080/"
        },
        "id": "hXWTZd2bEsfg",
        "outputId": "554a81b4-9991-4a86-8e04-bb7c9f550163"
      },
      "execution_count": 12,
      "outputs": [
        {
          "output_type": "stream",
          "name": "stdout",
          "text": [
            "Drift: Yes\n"
          ]
        }
      ]
    }
  ]
}